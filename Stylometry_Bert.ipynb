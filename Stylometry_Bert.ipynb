{
  "nbformat": 4,
  "nbformat_minor": 0,
  "metadata": {
    "colab": {
      "provenance": [],
      "toc_visible": true,
      "authorship_tag": "ABX9TyMbREetvnn0K4irojKZpZJ4",
      "include_colab_link": true
    },
    "kernelspec": {
      "name": "python3",
      "display_name": "Python 3"
    },
    "language_info": {
      "name": "python"
    }
  },
  "cells": [
    {
      "cell_type": "markdown",
      "metadata": {
        "id": "view-in-github",
        "colab_type": "text"
      },
      "source": [
        "<a href=\"https://colab.research.google.com/github/vladislavlisin/Stylometry_Extra/blob/main/Stylometry_Bert.ipynb\" target=\"_parent\"><img src=\"https://colab.research.google.com/assets/colab-badge.svg\" alt=\"Open In Colab\"/></a>"
      ]
    },
    {
      "cell_type": "markdown",
      "source": [
        "# **Смотрим на данные**"
      ],
      "metadata": {
        "id": "eXxPYz8_vBRv"
      }
    },
    {
      "cell_type": "code",
      "source": [
        "# работаем в google colab\n",
        "# подключаем гугл диск с данными\n",
        "from google.colab import drive\n",
        "drive.mount('/content/drive')"
      ],
      "metadata": {
        "colab": {
          "base_uri": "https://localhost:8080/"
        },
        "id": "QMLXyDjarsar",
        "outputId": "a1d31c45-dbeb-4ad5-a57a-65d10a12fb49"
      },
      "execution_count": null,
      "outputs": [
        {
          "output_type": "stream",
          "name": "stdout",
          "text": [
            "Mounted at /content/drive\n"
          ]
        }
      ]
    },
    {
      "cell_type": "code",
      "execution_count": null,
      "metadata": {
        "colab": {
          "base_uri": "https://localhost:8080/",
          "height": 206
        },
        "id": "702c2895",
        "outputId": "460ab49f-3092-483d-db03-f4cb673251bc"
      },
      "outputs": [
        {
          "output_type": "execute_result",
          "data": {
            "text/plain": [
              "   index  author name  year                                               text\n",
              "0      0  Пушкин  NaN     0  Когда сожмешь ты снова руку,\\nКоторая тебе дар...\n",
              "1      1  Пушкин  NaN     0  Тебя ль я видел, милый друг?\\nИли неверное то ...\n",
              "2      2  Пушкин  NaN     0  Когда, к мечтательному миру\\nСтремясь возвышен...\n",
              "3      3  Пушкин  NaN     0  Его стихов пленительная сладость\\nПройдет веко...\n",
              "4      4  Пушкин  NaN     0  Бессмертною рукой раздавленный зоил,\\nПозорног..."
            ],
            "text/html": [
              "\n",
              "  <div id=\"df-1241ee37-e00a-42c9-a6e5-521e852fec99\">\n",
              "    <div class=\"colab-df-container\">\n",
              "      <div>\n",
              "<style scoped>\n",
              "    .dataframe tbody tr th:only-of-type {\n",
              "        vertical-align: middle;\n",
              "    }\n",
              "\n",
              "    .dataframe tbody tr th {\n",
              "        vertical-align: top;\n",
              "    }\n",
              "\n",
              "    .dataframe thead th {\n",
              "        text-align: right;\n",
              "    }\n",
              "</style>\n",
              "<table border=\"1\" class=\"dataframe\">\n",
              "  <thead>\n",
              "    <tr style=\"text-align: right;\">\n",
              "      <th></th>\n",
              "      <th>index</th>\n",
              "      <th>author</th>\n",
              "      <th>name</th>\n",
              "      <th>year</th>\n",
              "      <th>text</th>\n",
              "    </tr>\n",
              "  </thead>\n",
              "  <tbody>\n",
              "    <tr>\n",
              "      <th>0</th>\n",
              "      <td>0</td>\n",
              "      <td>Пушкин</td>\n",
              "      <td>NaN</td>\n",
              "      <td>0</td>\n",
              "      <td>Когда сожмешь ты снова руку,\\nКоторая тебе дар...</td>\n",
              "    </tr>\n",
              "    <tr>\n",
              "      <th>1</th>\n",
              "      <td>1</td>\n",
              "      <td>Пушкин</td>\n",
              "      <td>NaN</td>\n",
              "      <td>0</td>\n",
              "      <td>Тебя ль я видел, милый друг?\\nИли неверное то ...</td>\n",
              "    </tr>\n",
              "    <tr>\n",
              "      <th>2</th>\n",
              "      <td>2</td>\n",
              "      <td>Пушкин</td>\n",
              "      <td>NaN</td>\n",
              "      <td>0</td>\n",
              "      <td>Когда, к мечтательному миру\\nСтремясь возвышен...</td>\n",
              "    </tr>\n",
              "    <tr>\n",
              "      <th>3</th>\n",
              "      <td>3</td>\n",
              "      <td>Пушкин</td>\n",
              "      <td>NaN</td>\n",
              "      <td>0</td>\n",
              "      <td>Его стихов пленительная сладость\\nПройдет веко...</td>\n",
              "    </tr>\n",
              "    <tr>\n",
              "      <th>4</th>\n",
              "      <td>4</td>\n",
              "      <td>Пушкин</td>\n",
              "      <td>NaN</td>\n",
              "      <td>0</td>\n",
              "      <td>Бессмертною рукой раздавленный зоил,\\nПозорног...</td>\n",
              "    </tr>\n",
              "  </tbody>\n",
              "</table>\n",
              "</div>\n",
              "      <button class=\"colab-df-convert\" onclick=\"convertToInteractive('df-1241ee37-e00a-42c9-a6e5-521e852fec99')\"\n",
              "              title=\"Convert this dataframe to an interactive table.\"\n",
              "              style=\"display:none;\">\n",
              "        \n",
              "  <svg xmlns=\"http://www.w3.org/2000/svg\" height=\"24px\"viewBox=\"0 0 24 24\"\n",
              "       width=\"24px\">\n",
              "    <path d=\"M0 0h24v24H0V0z\" fill=\"none\"/>\n",
              "    <path d=\"M18.56 5.44l.94 2.06.94-2.06 2.06-.94-2.06-.94-.94-2.06-.94 2.06-2.06.94zm-11 1L8.5 8.5l.94-2.06 2.06-.94-2.06-.94L8.5 2.5l-.94 2.06-2.06.94zm10 10l.94 2.06.94-2.06 2.06-.94-2.06-.94-.94-2.06-.94 2.06-2.06.94z\"/><path d=\"M17.41 7.96l-1.37-1.37c-.4-.4-.92-.59-1.43-.59-.52 0-1.04.2-1.43.59L10.3 9.45l-7.72 7.72c-.78.78-.78 2.05 0 2.83L4 21.41c.39.39.9.59 1.41.59.51 0 1.02-.2 1.41-.59l7.78-7.78 2.81-2.81c.8-.78.8-2.07 0-2.86zM5.41 20L4 18.59l7.72-7.72 1.47 1.35L5.41 20z\"/>\n",
              "  </svg>\n",
              "      </button>\n",
              "      \n",
              "  <style>\n",
              "    .colab-df-container {\n",
              "      display:flex;\n",
              "      flex-wrap:wrap;\n",
              "      gap: 12px;\n",
              "    }\n",
              "\n",
              "    .colab-df-convert {\n",
              "      background-color: #E8F0FE;\n",
              "      border: none;\n",
              "      border-radius: 50%;\n",
              "      cursor: pointer;\n",
              "      display: none;\n",
              "      fill: #1967D2;\n",
              "      height: 32px;\n",
              "      padding: 0 0 0 0;\n",
              "      width: 32px;\n",
              "    }\n",
              "\n",
              "    .colab-df-convert:hover {\n",
              "      background-color: #E2EBFA;\n",
              "      box-shadow: 0px 1px 2px rgba(60, 64, 67, 0.3), 0px 1px 3px 1px rgba(60, 64, 67, 0.15);\n",
              "      fill: #174EA6;\n",
              "    }\n",
              "\n",
              "    [theme=dark] .colab-df-convert {\n",
              "      background-color: #3B4455;\n",
              "      fill: #D2E3FC;\n",
              "    }\n",
              "\n",
              "    [theme=dark] .colab-df-convert:hover {\n",
              "      background-color: #434B5C;\n",
              "      box-shadow: 0px 1px 3px 1px rgba(0, 0, 0, 0.15);\n",
              "      filter: drop-shadow(0px 1px 2px rgba(0, 0, 0, 0.3));\n",
              "      fill: #FFFFFF;\n",
              "    }\n",
              "  </style>\n",
              "\n",
              "      <script>\n",
              "        const buttonEl =\n",
              "          document.querySelector('#df-1241ee37-e00a-42c9-a6e5-521e852fec99 button.colab-df-convert');\n",
              "        buttonEl.style.display =\n",
              "          google.colab.kernel.accessAllowed ? 'block' : 'none';\n",
              "\n",
              "        async function convertToInteractive(key) {\n",
              "          const element = document.querySelector('#df-1241ee37-e00a-42c9-a6e5-521e852fec99');\n",
              "          const dataTable =\n",
              "            await google.colab.kernel.invokeFunction('convertToInteractive',\n",
              "                                                     [key], {});\n",
              "          if (!dataTable) return;\n",
              "\n",
              "          const docLinkHtml = 'Like what you see? Visit the ' +\n",
              "            '<a target=\"_blank\" href=https://colab.research.google.com/notebooks/data_table.ipynb>data table notebook</a>'\n",
              "            + ' to learn more about interactive tables.';\n",
              "          element.innerHTML = '';\n",
              "          dataTable['output_type'] = 'display_data';\n",
              "          await google.colab.output.renderOutput(dataTable, element);\n",
              "          const docLink = document.createElement('div');\n",
              "          docLink.innerHTML = docLinkHtml;\n",
              "          element.appendChild(docLink);\n",
              "        }\n",
              "      </script>\n",
              "    </div>\n",
              "  </div>\n",
              "  "
            ]
          },
          "metadata": {},
          "execution_count": 2
        }
      ],
      "source": [
        "import pandas as pd \n",
        "import numpy as np\n",
        "\n",
        "corpus = pd.read_csv(\"/content/drive/MyDrive/poems_ok.csv\", delimiter=',', encoding='utf-8')\n",
        "\n",
        "corpus.head()"
      ]
    },
    {
      "cell_type": "code",
      "execution_count": null,
      "metadata": {
        "id": "9a488888",
        "colab": {
          "base_uri": "https://localhost:8080/",
          "height": 72
        },
        "outputId": "8518cac6-7829-4ae2-fa7b-5f09ad7f81ff"
      },
      "outputs": [
        {
          "output_type": "execute_result",
          "data": {
            "text/plain": [
              "'Когда сожмешь ты снова руку,\\nКоторая тебе дарит\\nНа скучный путь и на разлуку\\nСвятую Библию Харит?\\nАмур нашел ее в Цитере,\\nВ архиве Шалости младой.\\nПо ней молись своей Венере\\nБлагочестивою душой.\\nПрости, эпикуреец мой!\\nОстанься век, каков ты ныне,\\nЛети во мрачный Альбион!\\nДа сохранят тебя в чужбине\\nХристос и верный Купидон!\\nНеси в чужой предел Пената,\\nНо, помня прежни дни свои,\\nЛюби недевственного брата,\\nСтрадальца чувственной любви!'"
            ],
            "application/vnd.google.colaboratory.intrinsic+json": {
              "type": "string"
            }
          },
          "metadata": {},
          "execution_count": 3
        }
      ],
      "source": [
        "corpus['text'][0]"
      ]
    },
    {
      "cell_type": "code",
      "execution_count": null,
      "metadata": {
        "id": "35395a39",
        "colab": {
          "base_uri": "https://localhost:8080/"
        },
        "outputId": "9459449d-0d8b-4bd2-949c-3baa1bb45ebb"
      },
      "outputs": [
        {
          "output_type": "stream",
          "name": "stdout",
          "text": [
            "Самая маленькая поэма строк и её индекс\n",
            "1\n",
            "314\n",
            "Самая большая поэма строк и её индекс\n",
            "384\n",
            "326\n"
          ]
        }
      ],
      "source": [
        "# посмотрим на данные в целом, какая длина?\n",
        "\n",
        "# словарь (индекс: кол-во строк)\n",
        "lengths = {j: i.count(\"\\n\") for i, j in zip(corpus['text'], corpus[\"index\"])}\n",
        "\n",
        "print(\"Самая маленькая поэма строк и её индекс\")\n",
        "print(min(lengths.values()) + 1)\n",
        "print(min(lengths, key=lengths.get))\n",
        "\n",
        "print(\"Самая большая поэма строк и её индекс\")\n",
        "print(max(lengths.values()) + 1)\n",
        "print(max(lengths, key=lengths.get))"
      ]
    },
    {
      "cell_type": "code",
      "source": [
        "str_lengths = {j: len(i.split()) for i, j in zip(corpus['text'], corpus[\"index\"])}\n",
        "\n",
        "print(\"Самая маленькая поэма слов и её индекс\")\n",
        "print(min(str_lengths.values()) + 1)\n",
        "print(min(str_lengths, key=str_lengths.get))\n",
        "\n",
        "print(\"Самая большая поэма слов и её индекс\")\n",
        "print(max(str_lengths.values()) + 1)\n",
        "print(max(str_lengths, key=str_lengths.get))"
      ],
      "metadata": {
        "colab": {
          "base_uri": "https://localhost:8080/"
        },
        "id": "vKbDYM80x_wg",
        "outputId": "a5a5a899-b7d9-4d76-f4d8-57863ed67fb9"
      },
      "execution_count": null,
      "outputs": [
        {
          "output_type": "stream",
          "name": "stdout",
          "text": [
            "Самая маленькая поэма слов и её индекс\n",
            "3\n",
            "314\n",
            "Самая большая поэма слов и её индекс\n",
            "2048\n",
            "326\n"
          ]
        }
      ]
    },
    {
      "cell_type": "code",
      "execution_count": null,
      "metadata": {
        "id": "3dc75857",
        "colab": {
          "base_uri": "https://localhost:8080/",
          "height": 81
        },
        "outputId": "ce08fa4f-41bb-41d6-c142-ab6029f7ddd6"
      },
      "outputs": [
        {
          "output_type": "execute_result",
          "data": {
            "text/plain": [
              "     index  author name  year                        text\n",
              "314    314  Пушкин  NaN     0  (ПОДРАЖАНИЕ ФРАНЦУЗСКОМУ)."
            ],
            "text/html": [
              "\n",
              "  <div id=\"df-1d15e724-d6c9-46da-9f9c-fe7ac8e0e9c0\">\n",
              "    <div class=\"colab-df-container\">\n",
              "      <div>\n",
              "<style scoped>\n",
              "    .dataframe tbody tr th:only-of-type {\n",
              "        vertical-align: middle;\n",
              "    }\n",
              "\n",
              "    .dataframe tbody tr th {\n",
              "        vertical-align: top;\n",
              "    }\n",
              "\n",
              "    .dataframe thead th {\n",
              "        text-align: right;\n",
              "    }\n",
              "</style>\n",
              "<table border=\"1\" class=\"dataframe\">\n",
              "  <thead>\n",
              "    <tr style=\"text-align: right;\">\n",
              "      <th></th>\n",
              "      <th>index</th>\n",
              "      <th>author</th>\n",
              "      <th>name</th>\n",
              "      <th>year</th>\n",
              "      <th>text</th>\n",
              "    </tr>\n",
              "  </thead>\n",
              "  <tbody>\n",
              "    <tr>\n",
              "      <th>314</th>\n",
              "      <td>314</td>\n",
              "      <td>Пушкин</td>\n",
              "      <td>NaN</td>\n",
              "      <td>0</td>\n",
              "      <td>(ПОДРАЖАНИЕ ФРАНЦУЗСКОМУ).</td>\n",
              "    </tr>\n",
              "  </tbody>\n",
              "</table>\n",
              "</div>\n",
              "      <button class=\"colab-df-convert\" onclick=\"convertToInteractive('df-1d15e724-d6c9-46da-9f9c-fe7ac8e0e9c0')\"\n",
              "              title=\"Convert this dataframe to an interactive table.\"\n",
              "              style=\"display:none;\">\n",
              "        \n",
              "  <svg xmlns=\"http://www.w3.org/2000/svg\" height=\"24px\"viewBox=\"0 0 24 24\"\n",
              "       width=\"24px\">\n",
              "    <path d=\"M0 0h24v24H0V0z\" fill=\"none\"/>\n",
              "    <path d=\"M18.56 5.44l.94 2.06.94-2.06 2.06-.94-2.06-.94-.94-2.06-.94 2.06-2.06.94zm-11 1L8.5 8.5l.94-2.06 2.06-.94-2.06-.94L8.5 2.5l-.94 2.06-2.06.94zm10 10l.94 2.06.94-2.06 2.06-.94-2.06-.94-.94-2.06-.94 2.06-2.06.94z\"/><path d=\"M17.41 7.96l-1.37-1.37c-.4-.4-.92-.59-1.43-.59-.52 0-1.04.2-1.43.59L10.3 9.45l-7.72 7.72c-.78.78-.78 2.05 0 2.83L4 21.41c.39.39.9.59 1.41.59.51 0 1.02-.2 1.41-.59l7.78-7.78 2.81-2.81c.8-.78.8-2.07 0-2.86zM5.41 20L4 18.59l7.72-7.72 1.47 1.35L5.41 20z\"/>\n",
              "  </svg>\n",
              "      </button>\n",
              "      \n",
              "  <style>\n",
              "    .colab-df-container {\n",
              "      display:flex;\n",
              "      flex-wrap:wrap;\n",
              "      gap: 12px;\n",
              "    }\n",
              "\n",
              "    .colab-df-convert {\n",
              "      background-color: #E8F0FE;\n",
              "      border: none;\n",
              "      border-radius: 50%;\n",
              "      cursor: pointer;\n",
              "      display: none;\n",
              "      fill: #1967D2;\n",
              "      height: 32px;\n",
              "      padding: 0 0 0 0;\n",
              "      width: 32px;\n",
              "    }\n",
              "\n",
              "    .colab-df-convert:hover {\n",
              "      background-color: #E2EBFA;\n",
              "      box-shadow: 0px 1px 2px rgba(60, 64, 67, 0.3), 0px 1px 3px 1px rgba(60, 64, 67, 0.15);\n",
              "      fill: #174EA6;\n",
              "    }\n",
              "\n",
              "    [theme=dark] .colab-df-convert {\n",
              "      background-color: #3B4455;\n",
              "      fill: #D2E3FC;\n",
              "    }\n",
              "\n",
              "    [theme=dark] .colab-df-convert:hover {\n",
              "      background-color: #434B5C;\n",
              "      box-shadow: 0px 1px 3px 1px rgba(0, 0, 0, 0.15);\n",
              "      filter: drop-shadow(0px 1px 2px rgba(0, 0, 0, 0.3));\n",
              "      fill: #FFFFFF;\n",
              "    }\n",
              "  </style>\n",
              "\n",
              "      <script>\n",
              "        const buttonEl =\n",
              "          document.querySelector('#df-1d15e724-d6c9-46da-9f9c-fe7ac8e0e9c0 button.colab-df-convert');\n",
              "        buttonEl.style.display =\n",
              "          google.colab.kernel.accessAllowed ? 'block' : 'none';\n",
              "\n",
              "        async function convertToInteractive(key) {\n",
              "          const element = document.querySelector('#df-1d15e724-d6c9-46da-9f9c-fe7ac8e0e9c0');\n",
              "          const dataTable =\n",
              "            await google.colab.kernel.invokeFunction('convertToInteractive',\n",
              "                                                     [key], {});\n",
              "          if (!dataTable) return;\n",
              "\n",
              "          const docLinkHtml = 'Like what you see? Visit the ' +\n",
              "            '<a target=\"_blank\" href=https://colab.research.google.com/notebooks/data_table.ipynb>data table notebook</a>'\n",
              "            + ' to learn more about interactive tables.';\n",
              "          element.innerHTML = '';\n",
              "          dataTable['output_type'] = 'display_data';\n",
              "          await google.colab.output.renderOutput(dataTable, element);\n",
              "          const docLink = document.createElement('div');\n",
              "          docLink.innerHTML = docLinkHtml;\n",
              "          element.appendChild(docLink);\n",
              "        }\n",
              "      </script>\n",
              "    </div>\n",
              "  </div>\n",
              "  "
            ]
          },
          "metadata": {},
          "execution_count": 6
        }
      ],
      "source": [
        "corpus.loc[corpus['index'] == 314]\n",
        "# и что это такое, есть плохие данные"
      ]
    },
    {
      "cell_type": "code",
      "source": [
        "keys_ = [key for key, val in str_lengths.items() if val > 1000]\n",
        "len(keys_)"
      ],
      "metadata": {
        "colab": {
          "base_uri": "https://localhost:8080/"
        },
        "id": "IJ75gk0AypHV",
        "outputId": "62ff2d54-46e2-4e48-abec-51adbe130bab"
      },
      "execution_count": null,
      "outputs": [
        {
          "output_type": "execute_result",
          "data": {
            "text/plain": [
              "12"
            ]
          },
          "metadata": {},
          "execution_count": 26
        }
      ]
    },
    {
      "cell_type": "code",
      "source": [
        "keys_"
      ],
      "metadata": {
        "colab": {
          "base_uri": "https://localhost:8080/"
        },
        "id": "ryE7rzQIFdBw",
        "outputId": "59a15828-ed6f-4e2b-f063-51aab17cd12d"
      },
      "execution_count": null,
      "outputs": [
        {
          "output_type": "execute_result",
          "data": {
            "text/plain": [
              "[296, 311, 326, 338, 380, 384, 392, 735, 811, 817, 843, 889]"
            ]
          },
          "metadata": {},
          "execution_count": 27
        }
      ]
    },
    {
      "cell_type": "code",
      "execution_count": null,
      "metadata": {
        "id": "9f203038",
        "colab": {
          "base_uri": "https://localhost:8080/"
        },
        "outputId": "f3c036f1-77bb-4905-b3f7-f3a11f711715"
      },
      "outputs": [
        {
          "output_type": "execute_result",
          "data": {
            "text/plain": [
              "13"
            ]
          },
          "metadata": {},
          "execution_count": 8
        }
      ],
      "source": [
        "# удалим пока стихи где меньше 4 строк\n",
        "keys_ = [key for key, val in lengths.items() if val < 3]\n",
        "len(keys_)"
      ]
    },
    {
      "cell_type": "code",
      "execution_count": null,
      "metadata": {
        "id": "fe9866c1",
        "colab": {
          "base_uri": "https://localhost:8080/",
          "height": 81
        },
        "outputId": "9c9a8e18-eccb-4b22-a676-20b35f648ec7"
      },
      "outputs": [
        {
          "output_type": "execute_result",
          "data": {
            "text/plain": [
              "     index    author                       name  year  \\\n",
              "326    326  Батюшков  Странствователь и домосед  1815   \n",
              "\n",
              "                                                  text  \n",
              "326  Объехав свет кругом,\\nСпокойный домосед, перед...  "
            ],
            "text/html": [
              "\n",
              "  <div id=\"df-49866ef0-ac1b-4f59-923d-d1510b489ad7\">\n",
              "    <div class=\"colab-df-container\">\n",
              "      <div>\n",
              "<style scoped>\n",
              "    .dataframe tbody tr th:only-of-type {\n",
              "        vertical-align: middle;\n",
              "    }\n",
              "\n",
              "    .dataframe tbody tr th {\n",
              "        vertical-align: top;\n",
              "    }\n",
              "\n",
              "    .dataframe thead th {\n",
              "        text-align: right;\n",
              "    }\n",
              "</style>\n",
              "<table border=\"1\" class=\"dataframe\">\n",
              "  <thead>\n",
              "    <tr style=\"text-align: right;\">\n",
              "      <th></th>\n",
              "      <th>index</th>\n",
              "      <th>author</th>\n",
              "      <th>name</th>\n",
              "      <th>year</th>\n",
              "      <th>text</th>\n",
              "    </tr>\n",
              "  </thead>\n",
              "  <tbody>\n",
              "    <tr>\n",
              "      <th>326</th>\n",
              "      <td>326</td>\n",
              "      <td>Батюшков</td>\n",
              "      <td>Странствователь и домосед</td>\n",
              "      <td>1815</td>\n",
              "      <td>Объехав свет кругом,\\nСпокойный домосед, перед...</td>\n",
              "    </tr>\n",
              "  </tbody>\n",
              "</table>\n",
              "</div>\n",
              "      <button class=\"colab-df-convert\" onclick=\"convertToInteractive('df-49866ef0-ac1b-4f59-923d-d1510b489ad7')\"\n",
              "              title=\"Convert this dataframe to an interactive table.\"\n",
              "              style=\"display:none;\">\n",
              "        \n",
              "  <svg xmlns=\"http://www.w3.org/2000/svg\" height=\"24px\"viewBox=\"0 0 24 24\"\n",
              "       width=\"24px\">\n",
              "    <path d=\"M0 0h24v24H0V0z\" fill=\"none\"/>\n",
              "    <path d=\"M18.56 5.44l.94 2.06.94-2.06 2.06-.94-2.06-.94-.94-2.06-.94 2.06-2.06.94zm-11 1L8.5 8.5l.94-2.06 2.06-.94-2.06-.94L8.5 2.5l-.94 2.06-2.06.94zm10 10l.94 2.06.94-2.06 2.06-.94-2.06-.94-.94-2.06-.94 2.06-2.06.94z\"/><path d=\"M17.41 7.96l-1.37-1.37c-.4-.4-.92-.59-1.43-.59-.52 0-1.04.2-1.43.59L10.3 9.45l-7.72 7.72c-.78.78-.78 2.05 0 2.83L4 21.41c.39.39.9.59 1.41.59.51 0 1.02-.2 1.41-.59l7.78-7.78 2.81-2.81c.8-.78.8-2.07 0-2.86zM5.41 20L4 18.59l7.72-7.72 1.47 1.35L5.41 20z\"/>\n",
              "  </svg>\n",
              "      </button>\n",
              "      \n",
              "  <style>\n",
              "    .colab-df-container {\n",
              "      display:flex;\n",
              "      flex-wrap:wrap;\n",
              "      gap: 12px;\n",
              "    }\n",
              "\n",
              "    .colab-df-convert {\n",
              "      background-color: #E8F0FE;\n",
              "      border: none;\n",
              "      border-radius: 50%;\n",
              "      cursor: pointer;\n",
              "      display: none;\n",
              "      fill: #1967D2;\n",
              "      height: 32px;\n",
              "      padding: 0 0 0 0;\n",
              "      width: 32px;\n",
              "    }\n",
              "\n",
              "    .colab-df-convert:hover {\n",
              "      background-color: #E2EBFA;\n",
              "      box-shadow: 0px 1px 2px rgba(60, 64, 67, 0.3), 0px 1px 3px 1px rgba(60, 64, 67, 0.15);\n",
              "      fill: #174EA6;\n",
              "    }\n",
              "\n",
              "    [theme=dark] .colab-df-convert {\n",
              "      background-color: #3B4455;\n",
              "      fill: #D2E3FC;\n",
              "    }\n",
              "\n",
              "    [theme=dark] .colab-df-convert:hover {\n",
              "      background-color: #434B5C;\n",
              "      box-shadow: 0px 1px 3px 1px rgba(0, 0, 0, 0.15);\n",
              "      filter: drop-shadow(0px 1px 2px rgba(0, 0, 0, 0.3));\n",
              "      fill: #FFFFFF;\n",
              "    }\n",
              "  </style>\n",
              "\n",
              "      <script>\n",
              "        const buttonEl =\n",
              "          document.querySelector('#df-49866ef0-ac1b-4f59-923d-d1510b489ad7 button.colab-df-convert');\n",
              "        buttonEl.style.display =\n",
              "          google.colab.kernel.accessAllowed ? 'block' : 'none';\n",
              "\n",
              "        async function convertToInteractive(key) {\n",
              "          const element = document.querySelector('#df-49866ef0-ac1b-4f59-923d-d1510b489ad7');\n",
              "          const dataTable =\n",
              "            await google.colab.kernel.invokeFunction('convertToInteractive',\n",
              "                                                     [key], {});\n",
              "          if (!dataTable) return;\n",
              "\n",
              "          const docLinkHtml = 'Like what you see? Visit the ' +\n",
              "            '<a target=\"_blank\" href=https://colab.research.google.com/notebooks/data_table.ipynb>data table notebook</a>'\n",
              "            + ' to learn more about interactive tables.';\n",
              "          element.innerHTML = '';\n",
              "          dataTable['output_type'] = 'display_data';\n",
              "          await google.colab.output.renderOutput(dataTable, element);\n",
              "          const docLink = document.createElement('div');\n",
              "          docLink.innerHTML = docLinkHtml;\n",
              "          element.appendChild(docLink);\n",
              "        }\n",
              "      </script>\n",
              "    </div>\n",
              "  </div>\n",
              "  "
            ]
          },
          "metadata": {},
          "execution_count": 28
        }
      ],
      "source": [
        "corpus.loc[corpus['index'] == 326]"
      ]
    },
    {
      "cell_type": "code",
      "execution_count": null,
      "metadata": {
        "id": "bbb2c0ac",
        "colab": {
          "base_uri": "https://localhost:8080/"
        },
        "outputId": "b26b1c59-5264-44ac-a0b4-c682bf065dc0"
      },
      "outputs": [
        {
          "output_type": "stream",
          "name": "stdout",
          "text": [
            "Аптеку позабудь ты для венков лавровых\n",
            "И не мори больных, но усыпляй здоровых.\n",
            "\n",
            "Как беспокоюсь я! три ночи,\n",
            "Поверьте, глаз я не смыкал». —\n",
            "«Да, слышал, слышал: в банк играл.»\n",
            "\n",
            "Он песни пишет зло,\n",
            "Как Геркулес, сатиры пишет,\n",
            "Влюблен, как Буало.\n",
            "\n",
            "(ПОДРАЖАНИЕ ФРАНЦУЗСКОМУ).\n",
            "\n",
            "Прельщать поэзией я дара не имею\n",
            "Других бы мог хвалить, тебя хвалить  не смею!\n",
            "\n",
            "Сей камень над моей возлюбленной женой!\n",
            "Ей там, мне здесь покой!\n",
            "\n",
            "Испытанных друзей для новых забывать\n",
            "Есть  цвет плоду предпочитать!\n",
            "\n",
            "Лягушке вздумалось: сем сделаюсь с быка,\n",
            "Хотя и лопну я  да мысль-то велика!\n",
            "\n",
            "Мы не смерти боимся, но с телом расстаться нам жалко:\n",
            "Так не с охотою мы старый сменяем халат.\n",
            "\n",
            "И вещего бояна опустили\n",
            "Сквозь запах роз и песни соловьев\n",
            "Под тень олив, на ложе из цветов.\n",
            "\n",
            "Жизнью земною играла она, как младенец игрушкой.\n",
            "Скоро разбила ее: верно, утешилась там.\n",
            "\n",
            "Сладкие слезы первой любви, как роса, вы иссохли!\n",
            " Нет! на бессмертных цветах в светлом раю мы блестим!\n",
            "\n",
            "Ты переводчик, я читатель,\n",
            "Ты усыпитель  я зеватель.\n",
            "\n"
          ]
        }
      ],
      "source": [
        "for i in keys_:\n",
        "    stroka = ((corpus.loc[corpus['index'] == i]).text.values)[0]\n",
        "    print(stroka)\n",
        "    print()"
      ]
    },
    {
      "cell_type": "code",
      "execution_count": null,
      "metadata": {
        "id": "b9670321",
        "colab": {
          "base_uri": "https://localhost:8080/"
        },
        "outputId": "20400bc7-12b3-4a55-eb7d-2f9d65c4bf77"
      },
      "outputs": [
        {
          "output_type": "execute_result",
          "data": {
            "text/plain": [
              "(1018, 5)"
            ]
          },
          "metadata": {},
          "execution_count": 11
        }
      ],
      "source": [
        "# удалим все поэмы длина которых меньше 4 строк\n",
        "corpus_new = corpus.copy()\n",
        "corpus_new = corpus_new.drop(keys_).reset_index(drop=True)\n",
        "corpus_new.shape"
      ]
    },
    {
      "cell_type": "code",
      "execution_count": null,
      "metadata": {
        "id": "478f1d30",
        "colab": {
          "base_uri": "https://localhost:8080/",
          "height": 423
        },
        "outputId": "96a5330e-9a93-43df-f052-a46f8e9f58b4"
      },
      "outputs": [
        {
          "output_type": "execute_result",
          "data": {
            "text/plain": [
              "      index   author                           name  year  \\\n",
              "0         0   Пушкин                            NaN     0   \n",
              "1         1   Пушкин                            NaN     0   \n",
              "2         2   Пушкин                            NaN     0   \n",
              "3         3   Пушкин                            NaN     0   \n",
              "4         4   Пушкин                            NaN     0   \n",
              "...     ...      ...                            ...   ...   \n",
              "1013   1027  Дельвиг                             66  1819   \n",
              "1014   1028  Дельвиг  А. С. ПУШКИНУ (Из Малороссии)  1817   \n",
              "1015   1029  Дельвиг                       К ДОРИДЕ  1815   \n",
              "1016   1030  Дельвиг                         РОМАНС  1823   \n",
              "1017   1031  Дельвиг            ВДОХНОВЕНИЕ (Сонет)  1822   \n",
              "\n",
              "                                                   text  \n",
              "0     Когда сожмешь ты снова руку,\\nКоторая тебе дар...  \n",
              "1     Тебя ль я видел, милый друг?\\nИли неверное то ...  \n",
              "2     Когда, к мечтательному миру\\nСтремясь возвышен...  \n",
              "3     Его стихов пленительная сладость\\nПройдет веко...  \n",
              "4     Бессмертною рукой раздавленный зоил,\\nПозорног...  \n",
              "...                                                 ...  \n",
              "1013  Друзья, поверьте, не грешно\\nЛюбить с вином бо...  \n",
              "1014  А я ужель забыт тобою,\\nМой брат по музе, мой ...  \n",
              "1015  Дорида, Дорида! любовью все дышит,\\nВсе пьет н...  \n",
              "1016  Вчера вакхических друзей\\nЯ посетил кружок вес...  \n",
              "1017  Не часто к нам слетает вдохновенье,\\nИ краткий...  \n",
              "\n",
              "[1018 rows x 5 columns]"
            ],
            "text/html": [
              "\n",
              "  <div id=\"df-38860ce4-1716-4a39-b725-11d45bce2a98\">\n",
              "    <div class=\"colab-df-container\">\n",
              "      <div>\n",
              "<style scoped>\n",
              "    .dataframe tbody tr th:only-of-type {\n",
              "        vertical-align: middle;\n",
              "    }\n",
              "\n",
              "    .dataframe tbody tr th {\n",
              "        vertical-align: top;\n",
              "    }\n",
              "\n",
              "    .dataframe thead th {\n",
              "        text-align: right;\n",
              "    }\n",
              "</style>\n",
              "<table border=\"1\" class=\"dataframe\">\n",
              "  <thead>\n",
              "    <tr style=\"text-align: right;\">\n",
              "      <th></th>\n",
              "      <th>index</th>\n",
              "      <th>author</th>\n",
              "      <th>name</th>\n",
              "      <th>year</th>\n",
              "      <th>text</th>\n",
              "    </tr>\n",
              "  </thead>\n",
              "  <tbody>\n",
              "    <tr>\n",
              "      <th>0</th>\n",
              "      <td>0</td>\n",
              "      <td>Пушкин</td>\n",
              "      <td>NaN</td>\n",
              "      <td>0</td>\n",
              "      <td>Когда сожмешь ты снова руку,\\nКоторая тебе дар...</td>\n",
              "    </tr>\n",
              "    <tr>\n",
              "      <th>1</th>\n",
              "      <td>1</td>\n",
              "      <td>Пушкин</td>\n",
              "      <td>NaN</td>\n",
              "      <td>0</td>\n",
              "      <td>Тебя ль я видел, милый друг?\\nИли неверное то ...</td>\n",
              "    </tr>\n",
              "    <tr>\n",
              "      <th>2</th>\n",
              "      <td>2</td>\n",
              "      <td>Пушкин</td>\n",
              "      <td>NaN</td>\n",
              "      <td>0</td>\n",
              "      <td>Когда, к мечтательному миру\\nСтремясь возвышен...</td>\n",
              "    </tr>\n",
              "    <tr>\n",
              "      <th>3</th>\n",
              "      <td>3</td>\n",
              "      <td>Пушкин</td>\n",
              "      <td>NaN</td>\n",
              "      <td>0</td>\n",
              "      <td>Его стихов пленительная сладость\\nПройдет веко...</td>\n",
              "    </tr>\n",
              "    <tr>\n",
              "      <th>4</th>\n",
              "      <td>4</td>\n",
              "      <td>Пушкин</td>\n",
              "      <td>NaN</td>\n",
              "      <td>0</td>\n",
              "      <td>Бессмертною рукой раздавленный зоил,\\nПозорног...</td>\n",
              "    </tr>\n",
              "    <tr>\n",
              "      <th>...</th>\n",
              "      <td>...</td>\n",
              "      <td>...</td>\n",
              "      <td>...</td>\n",
              "      <td>...</td>\n",
              "      <td>...</td>\n",
              "    </tr>\n",
              "    <tr>\n",
              "      <th>1013</th>\n",
              "      <td>1027</td>\n",
              "      <td>Дельвиг</td>\n",
              "      <td>66</td>\n",
              "      <td>1819</td>\n",
              "      <td>Друзья, поверьте, не грешно\\nЛюбить с вином бо...</td>\n",
              "    </tr>\n",
              "    <tr>\n",
              "      <th>1014</th>\n",
              "      <td>1028</td>\n",
              "      <td>Дельвиг</td>\n",
              "      <td>А. С. ПУШКИНУ (Из Малороссии)</td>\n",
              "      <td>1817</td>\n",
              "      <td>А я ужель забыт тобою,\\nМой брат по музе, мой ...</td>\n",
              "    </tr>\n",
              "    <tr>\n",
              "      <th>1015</th>\n",
              "      <td>1029</td>\n",
              "      <td>Дельвиг</td>\n",
              "      <td>К ДОРИДЕ</td>\n",
              "      <td>1815</td>\n",
              "      <td>Дорида, Дорида! любовью все дышит,\\nВсе пьет н...</td>\n",
              "    </tr>\n",
              "    <tr>\n",
              "      <th>1016</th>\n",
              "      <td>1030</td>\n",
              "      <td>Дельвиг</td>\n",
              "      <td>РОМАНС</td>\n",
              "      <td>1823</td>\n",
              "      <td>Вчера вакхических друзей\\nЯ посетил кружок вес...</td>\n",
              "    </tr>\n",
              "    <tr>\n",
              "      <th>1017</th>\n",
              "      <td>1031</td>\n",
              "      <td>Дельвиг</td>\n",
              "      <td>ВДОХНОВЕНИЕ (Сонет)</td>\n",
              "      <td>1822</td>\n",
              "      <td>Не часто к нам слетает вдохновенье,\\nИ краткий...</td>\n",
              "    </tr>\n",
              "  </tbody>\n",
              "</table>\n",
              "<p>1018 rows × 5 columns</p>\n",
              "</div>\n",
              "      <button class=\"colab-df-convert\" onclick=\"convertToInteractive('df-38860ce4-1716-4a39-b725-11d45bce2a98')\"\n",
              "              title=\"Convert this dataframe to an interactive table.\"\n",
              "              style=\"display:none;\">\n",
              "        \n",
              "  <svg xmlns=\"http://www.w3.org/2000/svg\" height=\"24px\"viewBox=\"0 0 24 24\"\n",
              "       width=\"24px\">\n",
              "    <path d=\"M0 0h24v24H0V0z\" fill=\"none\"/>\n",
              "    <path d=\"M18.56 5.44l.94 2.06.94-2.06 2.06-.94-2.06-.94-.94-2.06-.94 2.06-2.06.94zm-11 1L8.5 8.5l.94-2.06 2.06-.94-2.06-.94L8.5 2.5l-.94 2.06-2.06.94zm10 10l.94 2.06.94-2.06 2.06-.94-2.06-.94-.94-2.06-.94 2.06-2.06.94z\"/><path d=\"M17.41 7.96l-1.37-1.37c-.4-.4-.92-.59-1.43-.59-.52 0-1.04.2-1.43.59L10.3 9.45l-7.72 7.72c-.78.78-.78 2.05 0 2.83L4 21.41c.39.39.9.59 1.41.59.51 0 1.02-.2 1.41-.59l7.78-7.78 2.81-2.81c.8-.78.8-2.07 0-2.86zM5.41 20L4 18.59l7.72-7.72 1.47 1.35L5.41 20z\"/>\n",
              "  </svg>\n",
              "      </button>\n",
              "      \n",
              "  <style>\n",
              "    .colab-df-container {\n",
              "      display:flex;\n",
              "      flex-wrap:wrap;\n",
              "      gap: 12px;\n",
              "    }\n",
              "\n",
              "    .colab-df-convert {\n",
              "      background-color: #E8F0FE;\n",
              "      border: none;\n",
              "      border-radius: 50%;\n",
              "      cursor: pointer;\n",
              "      display: none;\n",
              "      fill: #1967D2;\n",
              "      height: 32px;\n",
              "      padding: 0 0 0 0;\n",
              "      width: 32px;\n",
              "    }\n",
              "\n",
              "    .colab-df-convert:hover {\n",
              "      background-color: #E2EBFA;\n",
              "      box-shadow: 0px 1px 2px rgba(60, 64, 67, 0.3), 0px 1px 3px 1px rgba(60, 64, 67, 0.15);\n",
              "      fill: #174EA6;\n",
              "    }\n",
              "\n",
              "    [theme=dark] .colab-df-convert {\n",
              "      background-color: #3B4455;\n",
              "      fill: #D2E3FC;\n",
              "    }\n",
              "\n",
              "    [theme=dark] .colab-df-convert:hover {\n",
              "      background-color: #434B5C;\n",
              "      box-shadow: 0px 1px 3px 1px rgba(0, 0, 0, 0.15);\n",
              "      filter: drop-shadow(0px 1px 2px rgba(0, 0, 0, 0.3));\n",
              "      fill: #FFFFFF;\n",
              "    }\n",
              "  </style>\n",
              "\n",
              "      <script>\n",
              "        const buttonEl =\n",
              "          document.querySelector('#df-38860ce4-1716-4a39-b725-11d45bce2a98 button.colab-df-convert');\n",
              "        buttonEl.style.display =\n",
              "          google.colab.kernel.accessAllowed ? 'block' : 'none';\n",
              "\n",
              "        async function convertToInteractive(key) {\n",
              "          const element = document.querySelector('#df-38860ce4-1716-4a39-b725-11d45bce2a98');\n",
              "          const dataTable =\n",
              "            await google.colab.kernel.invokeFunction('convertToInteractive',\n",
              "                                                     [key], {});\n",
              "          if (!dataTable) return;\n",
              "\n",
              "          const docLinkHtml = 'Like what you see? Visit the ' +\n",
              "            '<a target=\"_blank\" href=https://colab.research.google.com/notebooks/data_table.ipynb>data table notebook</a>'\n",
              "            + ' to learn more about interactive tables.';\n",
              "          element.innerHTML = '';\n",
              "          dataTable['output_type'] = 'display_data';\n",
              "          await google.colab.output.renderOutput(dataTable, element);\n",
              "          const docLink = document.createElement('div');\n",
              "          docLink.innerHTML = docLinkHtml;\n",
              "          element.appendChild(docLink);\n",
              "        }\n",
              "      </script>\n",
              "    </div>\n",
              "  </div>\n",
              "  "
            ]
          },
          "metadata": {},
          "execution_count": 12
        }
      ],
      "source": [
        "# Как расположены экземпляры в наборе? Ответ: По порядку, сперва стихи одного автора потом другого, значит их нужно перемешать!\n",
        "corpus_new"
      ]
    },
    {
      "cell_type": "code",
      "execution_count": null,
      "metadata": {
        "id": "ef1843c7"
      },
      "outputs": [],
      "source": [
        "# Определим функцию, чтобы вытащить общие сведения из данных\n",
        "def get_info(data):\n",
        "    info = pd.DataFrame(data=data.isnull().sum(), columns=[\"NaNs number\"], index=data.columns)\n",
        "    info[\"dtype\"] = data.dtypes\n",
        "    info['uniq el'] = [len(pd.unique(data.iloc[:,k])) for k in range(0, len(data.columns))]\n",
        "    print(data[data.author==\"Пушкин\"].shape[0], \" -- \",data[data.author==\"Пушкин\"].shape[0]/len(corpus.author))\n",
        "    print(info)"
      ]
    },
    {
      "cell_type": "code",
      "execution_count": null,
      "metadata": {
        "id": "5b1343b0",
        "colab": {
          "base_uri": "https://localhost:8080/"
        },
        "outputId": "6d65ee99-f890-4631-df83-c3f7b6fbce74"
      },
      "outputs": [
        {
          "output_type": "stream",
          "name": "stdout",
          "text": [
            "323  --  0.31328806983511154\n",
            "        NaNs number   dtype  uniq el\n",
            "index             0   int64     1031\n",
            "author            0  object        5\n",
            "name            323  object      629\n",
            "year              0   int64       49\n",
            "text              0  object     1031\n"
          ]
        }
      ],
      "source": [
        "get_info(corpus)"
      ]
    },
    {
      "cell_type": "code",
      "execution_count": null,
      "metadata": {
        "id": "e48018fd",
        "colab": {
          "base_uri": "https://localhost:8080/"
        },
        "outputId": "6c6a53f9-9a53-4c5d-becd-fb63c6416980"
      },
      "outputs": [
        {
          "output_type": "stream",
          "name": "stdout",
          "text": [
            "['Пушкин' 'Батюшков' 'Боратынский' 'Жуковский' 'Дельвиг']\n"
          ]
        }
      ],
      "source": [
        "print(corpus.author.unique())"
      ]
    },
    {
      "cell_type": "code",
      "execution_count": null,
      "metadata": {
        "id": "9cfb7825",
        "scrolled": true,
        "colab": {
          "base_uri": "https://localhost:8080/"
        },
        "outputId": "8cff1022-4e79-42db-cb98-7b3ea1492d99"
      },
      "outputs": [
        {
          "output_type": "stream",
          "name": "stdout",
          "text": [
            "(1018,) (1018,)\n"
          ]
        }
      ],
      "source": [
        "# Не будем изменять исходный dataframe\n",
        "from sklearn.preprocessing import LabelEncoder \n",
        "\n",
        "df = corpus_new.copy(deep=True)\n",
        "labels_map = {'Пушкин': 1, 'Батюшков': 0, 'Боратынский': 0, 'Жуковский': 0, 'Дельвиг': 0}\n",
        "\n",
        "y = df.author.map(labels_map) \n",
        "X = df.text\n",
        "\n",
        "print(X.shape, y.shape)"
      ]
    },
    {
      "cell_type": "code",
      "execution_count": null,
      "metadata": {
        "id": "787ad4a5",
        "colab": {
          "base_uri": "https://localhost:8080/"
        },
        "outputId": "9a1855b3-1fc1-43b7-85d3-8ac36c7495d6"
      },
      "outputs": [
        {
          "output_type": "stream",
          "name": "stdout",
          "text": [
            "Когда сожмешь ты снова руку,\n",
            "Которая тебе дарит\n",
            "На скучный путь и на разлуку\n",
            "Святую Библию Харит?\n",
            "Амур нашел ее в Цитере,\n",
            "В архиве Шалости младой.\n",
            "По ней молись своей Венере\n",
            "Благочестивою душой.\n",
            "Прости, эпикуреец мой!\n",
            "Останься век, каков ты ныне,\n",
            "Лети во мрачный Альбион!\n",
            "Да сохранят тебя в чужбине\n",
            "Христос и верный Купидон!\n",
            "Неси в чужой предел Пената,\n",
            "Но, помня прежни дни свои,\n",
            "Люби недевственного брата,\n",
            "Страдальца чувственной любви! \n",
            " 1\n"
          ]
        }
      ],
      "source": [
        "print(X[0], \"\\n\", y[0])"
      ]
    },
    {
      "cell_type": "code",
      "source": [
        "# посмотрим какие символы вообще есть в тексте помимо русских букв\n",
        "\n",
        "def what_chars_do_we_have(dataframe):\n",
        "    text = list()\n",
        "    chars = \"йцукенгшщзхъфывапролджэячсмитёьбю\\n\"\n",
        "    for i in dataframe: \n",
        "        temp = i.lower()\n",
        "        text_temp = \"\".join([ch for ch in temp if ch not in chars])\n",
        "        text.append(text_temp)\n",
        "    \n",
        "    return text\n",
        "\n",
        "\n",
        "evr = set()\n",
        "tempy = what_chars_do_we_have(X)\n",
        "for i in tempy:\n",
        "    evr = evr | set(i)\n",
        "\n",
        "# \\xa0 - space\n",
        "evr\n",
        "\n",
        "# заментим что есть буквы латинского (английского языка), они не многочислены\n",
        "# их также удалим"
      ],
      "metadata": {
        "colab": {
          "base_uri": "https://localhost:8080/"
        },
        "id": "nR-iuq_Uzu7r",
        "outputId": "137cfa12-b1cc-4bb9-9082-ef4eb59e5bcf"
      },
      "execution_count": null,
      "outputs": [
        {
          "output_type": "execute_result",
          "data": {
            "text/plain": [
              "{' ',\n",
              " '!',\n",
              " '\"',\n",
              " '(',\n",
              " ')',\n",
              " '*',\n",
              " ',',\n",
              " '-',\n",
              " '.',\n",
              " ':',\n",
              " '?',\n",
              " '[',\n",
              " ']',\n",
              " 'a',\n",
              " 'b',\n",
              " 'c',\n",
              " 'd',\n",
              " 'e',\n",
              " 'h',\n",
              " 'i',\n",
              " 'k',\n",
              " 'l',\n",
              " 'm',\n",
              " 'n',\n",
              " 'o',\n",
              " 'p',\n",
              " 'q',\n",
              " 'r',\n",
              " 's',\n",
              " 't',\n",
              " 'u',\n",
              " 'v',\n",
              " 'x',\n",
              " '\\xa0',\n",
              " '«',\n",
              " '»',\n",
              " '́',\n",
              " '—'}"
            ]
          },
          "metadata": {},
          "execution_count": 18
        }
      ]
    },
    {
      "cell_type": "code",
      "execution_count": null,
      "metadata": {
        "id": "40c28eb2",
        "colab": {
          "base_uri": "https://localhost:8080/"
        },
        "outputId": "061bd1a4-1781-40e6-cb17-8f47dd834713"
      },
      "outputs": [
        {
          "output_type": "stream",
          "name": "stdout",
          "text": [
            "1018\n",
            "когда сожмешь ты снова руку которая тебе дарит на скучный путь и на разлуку святую библию харит амур нашел ее в цитере в архиве шалости младой по ней молись своей венере благочестивою душой прости эпикуреец мой останься век каков ты ныне лети во мрачный альбион да сохранят тебя в чужбине христос и верный купидон неси в чужой предел пената но помня прежни дни свои люби недевственного брата страдальца чувственной любви\n"
          ]
        }
      ],
      "source": [
        "# Для этого исходный текст нужно разделить на слова и к каждому слову применить стэмминг\n",
        "# Стоп слова исключать не будет, так как в контексте стихов они могут играть важную роль\n",
        "# убрали пунктуацию, цифры\n",
        "\n",
        "to_remove = {'!','\"', '(', ')', '*', ',', '-', '.', ':', '?', '[', ']', 'a',\n",
        "             'b', 'c', 'd', 'e', 'h', 'i', 'k', 'l', 'm', 'n', 'o', 'p', 'q', \n",
        "             'r', 's', 't', 'u', 'v', 'x', '«', '»', '́', '—', \"\\xa0\"}\n",
        "\n",
        "\n",
        "def clean_text(dataframe, to_remove):\n",
        "    \n",
        "    text = list()\n",
        "    for i in dataframe: \n",
        "        temp = i.lower()\n",
        "        text_temp = \"\".join([ch for ch in temp if ch not in to_remove])\n",
        "        final = text_temp.replace('\\n', ' ')\n",
        "        text.append(final)\n",
        "    return text\n",
        "\n",
        "\n",
        "\n",
        "# у нас есть список чистых текстов\n",
        "X_clear = clean_text(X, to_remove)\n",
        "\n",
        "print(len(X_clear))\n",
        "print(X_clear[0])"
      ]
    },
    {
      "cell_type": "markdown",
      "source": [
        "# **НАЧАЛО РАБОТЫ С ДАННЫМИ**\n"
      ],
      "metadata": {
        "id": "CbEj1HsWvQnK"
      }
    },
    {
      "cell_type": "code",
      "execution_count": null,
      "metadata": {
        "id": "b68a1237",
        "colab": {
          "base_uri": "https://localhost:8080/"
        },
        "outputId": "df882356-6eb4-434c-aad4-7679a4822c9e"
      },
      "outputs": [
        {
          "output_type": "stream",
          "name": "stdout",
          "text": [
            "Found 31507 unique tokens.\n",
            "31507 2047 (1018, 2047)\n"
          ]
        },
        {
          "output_type": "execute_result",
          "data": {
            "text/plain": [
              "array([[    0,     0,     0, ...,  1323, 13132,    43],\n",
              "       [    0,     0,     0, ...,     1,  1783,   329],\n",
              "       [    0,     0,     0, ...,  2286,     1,  3024],\n",
              "       ...,\n",
              "       [    0,     0,     0, ...,   667,    17,   216],\n",
              "       [    0,     0,     0, ..., 31498,   186, 31499],\n",
              "       [    0,     0,     0, ..., 31506,     4,   835]], dtype=int32)"
            ]
          },
          "metadata": {},
          "execution_count": 20
        }
      ],
      "source": [
        "# модель мешка слов не подходит для реккурентных сетей, поэтому используем числовое представление + embedding слой в сети\n",
        "\n",
        "# теперь используем встроенный токенизатор keras \n",
        "# в keras токенизатор упоряд-ет слова по частоте встречаемости, \n",
        "# поэтому последовательности в keras отличаются от нами сделанных\n",
        "\n",
        "from keras.preprocessing.text import Tokenizer\n",
        "from keras.utils import pad_sequences\n",
        "\n",
        "tokenizer = Tokenizer(filters='!–\"—#$%&amp;()*+,-./:;<=>?@[\\\\]^_`{|}~\\t\\n\\r«»',\n",
        "                      lower=True, \n",
        "                      split=' ', \n",
        "                      char_level=False)\n",
        "\n",
        "# словарь формируется на основе встречаемости слов в тексте (больше->меньше)\n",
        "tokenizer.fit_on_texts(X_clear)\n",
        "data = tokenizer.texts_to_sequences(X_clear)\n",
        "\n",
        "cut_seq = []\n",
        "for i in data:\n",
        "    if len(i) > 1000:\n",
        "        cut_seq.append(i[:1000])\n",
        "    else: \n",
        "        cut_seq.append(i)\n",
        "\n",
        "keras_pad_cut_seq = pad_sequences(cut_seq)\n",
        "keras_pad_seq = pad_sequences(data)\n",
        "\n",
        "# padding\n",
        "tokenizer.word_index['<pad>'] = 0\n",
        "tokenizer.index_word[0] = '<pad>'\n",
        "\n",
        "\n",
        "train_word_index = tokenizer.word_index\n",
        "print('Found %s unique tokens.' % len(train_word_index))\n",
        "\n",
        "# количество слов в словаре\n",
        "word_count_ker = len(tokenizer.word_index)\n",
        "\n",
        "# максимальная длина последовательности\n",
        "max_seq_length = len(keras_pad_seq[0])\n",
        "\n",
        "print(word_count_ker, max_seq_length, keras_pad_seq.shape)\n",
        "keras_pad_seq\n",
        "# tokenizer.index_word\n",
        "# tokenizer.word_index"
      ]
    },
    {
      "cell_type": "code",
      "source": [
        "# обучаем векторные представления embeddings на больших послед, учим модели на обрезанном\n",
        "print(keras_pad_cut_seq.shape)\n",
        "keras_pad_cut_seq"
      ],
      "metadata": {
        "colab": {
          "base_uri": "https://localhost:8080/"
        },
        "id": "4Pu0asG4dv4z",
        "outputId": "86584dc1-898d-410c-eb14-6e8f82af2ae6"
      },
      "execution_count": null,
      "outputs": [
        {
          "output_type": "stream",
          "name": "stdout",
          "text": [
            "(1018, 1000)\n"
          ]
        },
        {
          "output_type": "execute_result",
          "data": {
            "text/plain": [
              "array([[    0,     0,     0, ...,  1323, 13132,    43],\n",
              "       [    0,     0,     0, ...,     1,  1783,   329],\n",
              "       [    0,     0,     0, ...,  2286,     1,  3024],\n",
              "       ...,\n",
              "       [    0,     0,     0, ...,   667,    17,   216],\n",
              "       [    0,     0,     0, ..., 31498,   186, 31499],\n",
              "       [    0,     0,     0, ..., 31506,     4,   835]], dtype=int32)"
            ]
          },
          "metadata": {},
          "execution_count": 21
        }
      ]
    },
    {
      "cell_type": "code",
      "execution_count": null,
      "metadata": {
        "id": "b9805f3b",
        "colab": {
          "base_uri": "https://localhost:8080/"
        },
        "outputId": "e75dd90a-e0fe-4ed6-dab0-39655d8cc83f"
      },
      "outputs": [
        {
          "output_type": "execute_result",
          "data": {
            "text/plain": [
              "array([    0,     0,     0,     0,     0,     0,     0,     0,     0,\n",
              "           0,     0,     0,     0,     0,     0,     0,     0,     0,\n",
              "           0,     0,     0,     0,     0,     0,     0,     0,     0,\n",
              "           0,     0,     0,    23, 13125,     7,   263,   191,  1604,\n",
              "          38,  1782,     6,  2277,   117,     1,     6,   978,  2004,\n",
              "       13126,  1322,   770,   807,    36,     2,  5735,     2, 13127,\n",
              "        1783,   329,    24,    76,  2586,    81,  5736, 13128,   113,\n",
              "         205, 13129,    15,  1445,   131,  2587,     7,   279,   808,\n",
              "          53,   979,  4398,    64, 13130,    35,     2,  2005,  4399,\n",
              "           1,   280,  3016,  3017,     2,  1124,   910,  5737,     9,\n",
              "        5738,  3591,    94,   167,  2278, 13131,   809,  1323, 13132,\n",
              "          43], dtype=int32)"
            ]
          },
          "metadata": {},
          "execution_count": 22
        }
      ],
      "source": [
        "# заметим что последовательности разной длины, дополним их заполнителями 0, \n",
        "# внимательно следим за dtype, keras не любит object, в который по дефолту преобразуются списки\n",
        "\n",
        "X_seq = pd.DataFrame({'texts': X_clear})\n",
        "\n",
        "X_seq[\"prepr\"] = X_seq.apply(lambda row: row['texts'].split(), axis=1)\n",
        "keras_pad_seq[0,-100:]"
      ]
    },
    {
      "cell_type": "code",
      "source": [
        "!pip install pymorphy2"
      ],
      "metadata": {
        "colab": {
          "base_uri": "https://localhost:8080/"
        },
        "id": "ll1hXA-DPkNR",
        "outputId": "ec5fe073-da87-4262-ec6f-a72c2172931d"
      },
      "execution_count": null,
      "outputs": [
        {
          "output_type": "stream",
          "name": "stdout",
          "text": [
            "Looking in indexes: https://pypi.org/simple, https://us-python.pkg.dev/colab-wheels/public/simple/\n",
            "Collecting pymorphy2\n",
            "  Downloading pymorphy2-0.9.1-py3-none-any.whl (55 kB)\n",
            "\u001b[2K     \u001b[90m━━━━━━━━━━━━━━━━━━━━━━━━━━━━━━━━━━━━━━━━\u001b[0m \u001b[32m55.5/55.5 kB\u001b[0m \u001b[31m3.8 MB/s\u001b[0m eta \u001b[36m0:00:00\u001b[0m\n",
            "\u001b[?25hCollecting dawg-python>=0.7.1 (from pymorphy2)\n",
            "  Downloading DAWG_Python-0.7.2-py2.py3-none-any.whl (11 kB)\n",
            "Collecting pymorphy2-dicts-ru<3.0,>=2.4 (from pymorphy2)\n",
            "  Downloading pymorphy2_dicts_ru-2.4.417127.4579844-py2.py3-none-any.whl (8.2 MB)\n",
            "\u001b[2K     \u001b[90m━━━━━━━━━━━━━━━━━━━━━━━━━━━━━━━━━━━━━━━━\u001b[0m \u001b[32m8.2/8.2 MB\u001b[0m \u001b[31m68.2 MB/s\u001b[0m eta \u001b[36m0:00:00\u001b[0m\n",
            "\u001b[?25hCollecting docopt>=0.6 (from pymorphy2)\n",
            "  Downloading docopt-0.6.2.tar.gz (25 kB)\n",
            "  Preparing metadata (setup.py) ... \u001b[?25l\u001b[?25hdone\n",
            "Building wheels for collected packages: docopt\n",
            "  Building wheel for docopt (setup.py) ... \u001b[?25l\u001b[?25hdone\n",
            "  Created wheel for docopt: filename=docopt-0.6.2-py2.py3-none-any.whl size=13707 sha256=4a9c4370ca3e05c2f597cc3afb358999a8c6504f10ca2c4e525677e7fbbd323f\n",
            "  Stored in directory: /root/.cache/pip/wheels/fc/ab/d4/5da2067ac95b36618c629a5f93f809425700506f72c9732fac\n",
            "Successfully built docopt\n",
            "Installing collected packages: pymorphy2-dicts-ru, docopt, dawg-python, pymorphy2\n",
            "Successfully installed dawg-python-0.7.2 docopt-0.6.2 pymorphy2-0.9.1 pymorphy2-dicts-ru-2.4.417127.4579844\n"
          ]
        }
      ]
    },
    {
      "cell_type": "code",
      "source": [
        "# будем использовать word2vec и Glove, для этого необходимо привести все слова к нормальной форме\n",
        "def preproc(text, morph):\n",
        "    preprocessed_text = []\n",
        "    for token in text:\n",
        "        preprocessed_text.append(morph.parse(token)[0].normal_form)\n",
        "    return preprocessed_text\n",
        "\n",
        "import urllib.request \n",
        "from pymorphy2 import MorphAnalyzer\n",
        "\n",
        "morph = MorphAnalyzer()\n",
        "\n",
        "X_seq[\"norm\"] = X_seq.apply(lambda row: preproc(row[\"prepr\"], morph), axis=1) \n",
        "\n",
        "# аналогично сделаем нормальную последовательность \n",
        "\n",
        "norm_tokenizer = Tokenizer(analyzer=lambda x: x,\n",
        "                          lower=True, \n",
        "                          split=' ', \n",
        "                          char_level=False)\n",
        "\n",
        "# словарь формируется на основе встречаемости слов в тексте (больше->меньше)\n",
        "norm_tokenizer.fit_on_texts(X_seq[\"norm\"])\n",
        "norm_data = norm_tokenizer.texts_to_sequences(X_seq[\"norm\"])\n",
        "keras_pad_norm_seq = pad_sequences(norm_data)\n",
        "\n",
        "# padding\n",
        "norm_tokenizer.word_index['<pad>'] = 0\n",
        "norm_tokenizer.index_word[0] = '<pad>'\n",
        "\n",
        "norm_train_word_index = norm_tokenizer.word_index\n",
        "print('Found %s unique tokens.' % len(norm_train_word_index))\n",
        "\n",
        "# количество слов в словаре\n",
        "word_count_norm_ker = len(norm_tokenizer.word_index)\n",
        "\n",
        "# максимальная длина последовательности\n",
        "max_norm_seq_length = len(keras_pad_norm_seq[0])\n",
        "\n",
        "print(word_count_norm_ker, max_norm_seq_length, keras_pad_norm_seq.shape)\n",
        "keras_pad_norm_seq"
      ],
      "metadata": {
        "colab": {
          "base_uri": "https://localhost:8080/"
        },
        "id": "Ge7wGzPwVrS5",
        "outputId": "dbf6243b-8033-4e54-ce5b-e1bfc202fd67"
      },
      "execution_count": null,
      "outputs": [
        {
          "output_type": "stream",
          "name": "stdout",
          "text": [
            "Found 13428 unique tokens.\n",
            "13428 2047 (1018, 2047)\n"
          ]
        },
        {
          "output_type": "execute_result",
          "data": {
            "text/plain": [
              "array([[    0,     0,     0, ...,  1023,  4406,    27],\n",
              "       [    0,     0,     0, ...,     1,  1300,   466],\n",
              "       [    0,     0,     0, ...,   290,     1,   323],\n",
              "       ...,\n",
              "       [    0,     0,     0, ...,   376,    26,    59],\n",
              "       [    0,     0,     0, ...,  2296,    76, 13427],\n",
              "       [    0,     0,     0, ...,   525,     5,    49]], dtype=int32)"
            ]
          },
          "metadata": {},
          "execution_count": 24
        }
      ]
    },
    {
      "cell_type": "code",
      "source": [
        "X_seq"
      ],
      "metadata": {
        "colab": {
          "base_uri": "https://localhost:8080/",
          "height": 423
        },
        "id": "0ASRmIO5Osmc",
        "outputId": "98733539-6ddf-49fd-8ddc-8ecee34ee360"
      },
      "execution_count": null,
      "outputs": [
        {
          "output_type": "execute_result",
          "data": {
            "text/plain": [
              "                                                  texts  \\\n",
              "0     когда сожмешь ты снова руку которая тебе дарит...   \n",
              "1     тебя ль я видел милый друг или неверное то был...   \n",
              "2     когда к мечтательному миру стремясь возвышенно...   \n",
              "3     его стихов пленительная сладость пройдет веков...   \n",
              "4     бессмертною рукой раздавленный зоил позорного ...   \n",
              "...                                                 ...   \n",
              "1013  друзья поверьте не грешно любить с вином бокал...   \n",
              "1014  а я ужель забыт тобою мой брат по музе мой оре...   \n",
              "1015  дорида дорида любовью все дышит все пьет насла...   \n",
              "1016  вчера вакхических друзей я посетил кружок весе...   \n",
              "1017  не часто к нам слетает вдохновенье и краткий м...   \n",
              "\n",
              "                                                  prepr  \\\n",
              "0     [когда, сожмешь, ты, снова, руку, которая, теб...   \n",
              "1     [тебя, ль, я, видел, милый, друг, или, неверно...   \n",
              "2     [когда, к, мечтательному, миру, стремясь, возв...   \n",
              "3     [его, стихов, пленительная, сладость, пройдет,...   \n",
              "4     [бессмертною, рукой, раздавленный, зоил, позор...   \n",
              "...                                                 ...   \n",
              "1013  [друзья, поверьте, не, грешно, любить, с, вино...   \n",
              "1014  [а, я, ужель, забыт, тобою, мой, брат, по, муз...   \n",
              "1015  [дорида, дорида, любовью, все, дышит, все, пье...   \n",
              "1016  [вчера, вакхических, друзей, я, посетил, кружо...   \n",
              "1017  [не, часто, к, нам, слетает, вдохновенье, и, к...   \n",
              "\n",
              "                                                   norm  \n",
              "0     [когда, сжать, ты, снова, рука, который, ты, д...  \n",
              "1     [ты, ль, я, видеть, милый, друг, или, неверный...  \n",
              "2     [когда, к, мечтательный, мир, стремиться, возв...  \n",
              "3     [он, стих, пленительный, сладость, пройти, век...  \n",
              "4     [бессмертный, рука, раздавить, зоил, позорный,...  \n",
              "...                                                 ...  \n",
              "1013  [друг, поверьте, не, грешный, любить, с, вино,...  \n",
              "1014  [а, я, ужель, забытый, ты, мой, брат, по, муза...  \n",
              "1015  [дорида, дорида, любовь, всё, дышать, всё, пит...  \n",
              "1016  [вчера, вакхический, друг, я, посетить, кружок...  \n",
              "1017  [не, часто, к, мы, слетать, вдохновение, и, кр...  \n",
              "\n",
              "[1018 rows x 3 columns]"
            ],
            "text/html": [
              "\n",
              "  <div id=\"df-32dc4ab9-f0d1-4e24-9fb6-8cdd4189d594\">\n",
              "    <div class=\"colab-df-container\">\n",
              "      <div>\n",
              "<style scoped>\n",
              "    .dataframe tbody tr th:only-of-type {\n",
              "        vertical-align: middle;\n",
              "    }\n",
              "\n",
              "    .dataframe tbody tr th {\n",
              "        vertical-align: top;\n",
              "    }\n",
              "\n",
              "    .dataframe thead th {\n",
              "        text-align: right;\n",
              "    }\n",
              "</style>\n",
              "<table border=\"1\" class=\"dataframe\">\n",
              "  <thead>\n",
              "    <tr style=\"text-align: right;\">\n",
              "      <th></th>\n",
              "      <th>texts</th>\n",
              "      <th>prepr</th>\n",
              "      <th>norm</th>\n",
              "    </tr>\n",
              "  </thead>\n",
              "  <tbody>\n",
              "    <tr>\n",
              "      <th>0</th>\n",
              "      <td>когда сожмешь ты снова руку которая тебе дарит...</td>\n",
              "      <td>[когда, сожмешь, ты, снова, руку, которая, теб...</td>\n",
              "      <td>[когда, сжать, ты, снова, рука, который, ты, д...</td>\n",
              "    </tr>\n",
              "    <tr>\n",
              "      <th>1</th>\n",
              "      <td>тебя ль я видел милый друг или неверное то был...</td>\n",
              "      <td>[тебя, ль, я, видел, милый, друг, или, неверно...</td>\n",
              "      <td>[ты, ль, я, видеть, милый, друг, или, неверный...</td>\n",
              "    </tr>\n",
              "    <tr>\n",
              "      <th>2</th>\n",
              "      <td>когда к мечтательному миру стремясь возвышенно...</td>\n",
              "      <td>[когда, к, мечтательному, миру, стремясь, возв...</td>\n",
              "      <td>[когда, к, мечтательный, мир, стремиться, возв...</td>\n",
              "    </tr>\n",
              "    <tr>\n",
              "      <th>3</th>\n",
              "      <td>его стихов пленительная сладость пройдет веков...</td>\n",
              "      <td>[его, стихов, пленительная, сладость, пройдет,...</td>\n",
              "      <td>[он, стих, пленительный, сладость, пройти, век...</td>\n",
              "    </tr>\n",
              "    <tr>\n",
              "      <th>4</th>\n",
              "      <td>бессмертною рукой раздавленный зоил позорного ...</td>\n",
              "      <td>[бессмертною, рукой, раздавленный, зоил, позор...</td>\n",
              "      <td>[бессмертный, рука, раздавить, зоил, позорный,...</td>\n",
              "    </tr>\n",
              "    <tr>\n",
              "      <th>...</th>\n",
              "      <td>...</td>\n",
              "      <td>...</td>\n",
              "      <td>...</td>\n",
              "    </tr>\n",
              "    <tr>\n",
              "      <th>1013</th>\n",
              "      <td>друзья поверьте не грешно любить с вином бокал...</td>\n",
              "      <td>[друзья, поверьте, не, грешно, любить, с, вино...</td>\n",
              "      <td>[друг, поверьте, не, грешный, любить, с, вино,...</td>\n",
              "    </tr>\n",
              "    <tr>\n",
              "      <th>1014</th>\n",
              "      <td>а я ужель забыт тобою мой брат по музе мой оре...</td>\n",
              "      <td>[а, я, ужель, забыт, тобою, мой, брат, по, муз...</td>\n",
              "      <td>[а, я, ужель, забытый, ты, мой, брат, по, муза...</td>\n",
              "    </tr>\n",
              "    <tr>\n",
              "      <th>1015</th>\n",
              "      <td>дорида дорида любовью все дышит все пьет насла...</td>\n",
              "      <td>[дорида, дорида, любовью, все, дышит, все, пье...</td>\n",
              "      <td>[дорида, дорида, любовь, всё, дышать, всё, пит...</td>\n",
              "    </tr>\n",
              "    <tr>\n",
              "      <th>1016</th>\n",
              "      <td>вчера вакхических друзей я посетил кружок весе...</td>\n",
              "      <td>[вчера, вакхических, друзей, я, посетил, кружо...</td>\n",
              "      <td>[вчера, вакхический, друг, я, посетить, кружок...</td>\n",
              "    </tr>\n",
              "    <tr>\n",
              "      <th>1017</th>\n",
              "      <td>не часто к нам слетает вдохновенье и краткий м...</td>\n",
              "      <td>[не, часто, к, нам, слетает, вдохновенье, и, к...</td>\n",
              "      <td>[не, часто, к, мы, слетать, вдохновение, и, кр...</td>\n",
              "    </tr>\n",
              "  </tbody>\n",
              "</table>\n",
              "<p>1018 rows × 3 columns</p>\n",
              "</div>\n",
              "      <button class=\"colab-df-convert\" onclick=\"convertToInteractive('df-32dc4ab9-f0d1-4e24-9fb6-8cdd4189d594')\"\n",
              "              title=\"Convert this dataframe to an interactive table.\"\n",
              "              style=\"display:none;\">\n",
              "        \n",
              "  <svg xmlns=\"http://www.w3.org/2000/svg\" height=\"24px\"viewBox=\"0 0 24 24\"\n",
              "       width=\"24px\">\n",
              "    <path d=\"M0 0h24v24H0V0z\" fill=\"none\"/>\n",
              "    <path d=\"M18.56 5.44l.94 2.06.94-2.06 2.06-.94-2.06-.94-.94-2.06-.94 2.06-2.06.94zm-11 1L8.5 8.5l.94-2.06 2.06-.94-2.06-.94L8.5 2.5l-.94 2.06-2.06.94zm10 10l.94 2.06.94-2.06 2.06-.94-2.06-.94-.94-2.06-.94 2.06-2.06.94z\"/><path d=\"M17.41 7.96l-1.37-1.37c-.4-.4-.92-.59-1.43-.59-.52 0-1.04.2-1.43.59L10.3 9.45l-7.72 7.72c-.78.78-.78 2.05 0 2.83L4 21.41c.39.39.9.59 1.41.59.51 0 1.02-.2 1.41-.59l7.78-7.78 2.81-2.81c.8-.78.8-2.07 0-2.86zM5.41 20L4 18.59l7.72-7.72 1.47 1.35L5.41 20z\"/>\n",
              "  </svg>\n",
              "      </button>\n",
              "      \n",
              "  <style>\n",
              "    .colab-df-container {\n",
              "      display:flex;\n",
              "      flex-wrap:wrap;\n",
              "      gap: 12px;\n",
              "    }\n",
              "\n",
              "    .colab-df-convert {\n",
              "      background-color: #E8F0FE;\n",
              "      border: none;\n",
              "      border-radius: 50%;\n",
              "      cursor: pointer;\n",
              "      display: none;\n",
              "      fill: #1967D2;\n",
              "      height: 32px;\n",
              "      padding: 0 0 0 0;\n",
              "      width: 32px;\n",
              "    }\n",
              "\n",
              "    .colab-df-convert:hover {\n",
              "      background-color: #E2EBFA;\n",
              "      box-shadow: 0px 1px 2px rgba(60, 64, 67, 0.3), 0px 1px 3px 1px rgba(60, 64, 67, 0.15);\n",
              "      fill: #174EA6;\n",
              "    }\n",
              "\n",
              "    [theme=dark] .colab-df-convert {\n",
              "      background-color: #3B4455;\n",
              "      fill: #D2E3FC;\n",
              "    }\n",
              "\n",
              "    [theme=dark] .colab-df-convert:hover {\n",
              "      background-color: #434B5C;\n",
              "      box-shadow: 0px 1px 3px 1px rgba(0, 0, 0, 0.15);\n",
              "      filter: drop-shadow(0px 1px 2px rgba(0, 0, 0, 0.3));\n",
              "      fill: #FFFFFF;\n",
              "    }\n",
              "  </style>\n",
              "\n",
              "      <script>\n",
              "        const buttonEl =\n",
              "          document.querySelector('#df-32dc4ab9-f0d1-4e24-9fb6-8cdd4189d594 button.colab-df-convert');\n",
              "        buttonEl.style.display =\n",
              "          google.colab.kernel.accessAllowed ? 'block' : 'none';\n",
              "\n",
              "        async function convertToInteractive(key) {\n",
              "          const element = document.querySelector('#df-32dc4ab9-f0d1-4e24-9fb6-8cdd4189d594');\n",
              "          const dataTable =\n",
              "            await google.colab.kernel.invokeFunction('convertToInteractive',\n",
              "                                                     [key], {});\n",
              "          if (!dataTable) return;\n",
              "\n",
              "          const docLinkHtml = 'Like what you see? Visit the ' +\n",
              "            '<a target=\"_blank\" href=https://colab.research.google.com/notebooks/data_table.ipynb>data table notebook</a>'\n",
              "            + ' to learn more about interactive tables.';\n",
              "          element.innerHTML = '';\n",
              "          dataTable['output_type'] = 'display_data';\n",
              "          await google.colab.output.renderOutput(dataTable, element);\n",
              "          const docLink = document.createElement('div');\n",
              "          docLink.innerHTML = docLinkHtml;\n",
              "          element.appendChild(docLink);\n",
              "        }\n",
              "      </script>\n",
              "    </div>\n",
              "  </div>\n",
              "  "
            ]
          },
          "metadata": {},
          "execution_count": 25
        }
      ]
    },
    {
      "cell_type": "markdown",
      "source": [
        "# **BERT С НАДСТРОЙКОЙ**"
      ],
      "metadata": {
        "id": "-A0x2nRBuf8_"
      }
    },
    {
      "cell_type": "code",
      "source": [
        "! pip install transformers"
      ],
      "metadata": {
        "id": "DFWARTCHu4d7"
      },
      "execution_count": null,
      "outputs": []
    },
    {
      "cell_type": "code",
      "source": [
        "import re\n",
        "import numpy as np\n",
        "import pandas as pd\n",
        "from tqdm import tqdm\n",
        "from sklearn.model_selection import train_test_split\n",
        "from sklearn.metrics import classification_report, f1_score\n",
        "\n",
        "import torch\n",
        "import transformers\n",
        "import torch.nn as nn\n",
        "from transformers import AutoModel, BertTokenizer, BertForSequenceClassification\n",
        "from torch.utils.data import TensorDataset, DataLoader, RandomSampler, SequentialSampler\n",
        "\n",
        "tqdm.pandas()\n",
        "device = torch.device(\"cuda\" if torch.cuda.is_available() else \"cpu\")"
      ],
      "metadata": {
        "id": "zQ6IySEeujWm"
      },
      "execution_count": null,
      "outputs": []
    },
    {
      "cell_type": "code",
      "source": [
        "# Следующий код выведет график длин предложений. Он поможет определить \n",
        "# оптимальную длину последовательности токенов, чтобы избежать разреженных векторов.\n",
        "\n",
        "\n",
        "seq_len = [len(str(i).split()) for i in X]\n",
        "pd.Series(seq_len).hist(bins = 50)"
      ],
      "metadata": {
        "id": "FedMT1ooqxjQ"
      },
      "execution_count": null,
      "outputs": []
    },
    {
      "cell_type": "code",
      "source": [
        "# Для Bert не нужно проводить препроцессинг, поскольку он обучался на таких же грязных данных.\n",
        "from sklearn.model_selection import train_test_split\n",
        "X_train, X_test, y_train, y_test = train_test_split(X, y, train_size=0.85, test_size=0.15, random_state=0, shuffle=True)\n",
        "\n",
        "batch_size = 8\n",
        "max_seq_len = 512\n",
        "\n",
        "train_text = X_train[:700].reset_index(drop=True)\n",
        "train_labels = y_train[:700].reset_index(drop=True)\n",
        "val_text = X_train[700:].reset_index(drop=True)\n",
        "val_labels = y_train[700:].reset_index(drop=True)\n",
        "test_text = X_test.reset_index(drop=True)\n",
        "test_labels = y_test.reset_index(drop=True)\n",
        "\n",
        "print(len(train_text), len(val_text), len(test_text), \" = \" ,len(train_text)+len(val_text)+len(test_text))"
      ],
      "metadata": {
        "id": "OFWPOWhgpyhe"
      },
      "execution_count": null,
      "outputs": []
    },
    {
      "cell_type": "code",
      "source": [
        "# Проверяем доступность устройства CUDA\n",
        "bert = AutoModel.from_pretrained('DeepPavlov/rubert-base-cased-sentence')\n",
        "bert_tokenizer = BertTokenizer.from_pretrained('DeepPavlov/rubert-base-cased-sentence')"
      ],
      "metadata": {
        "id": "gx4BNWTWicM9"
      },
      "execution_count": null,
      "outputs": []
    },
    {
      "cell_type": "code",
      "source": [
        "print(bert.config)"
      ],
      "metadata": {
        "id": "MG_XAXP0jDSK"
      },
      "execution_count": null,
      "outputs": []
    },
    {
      "cell_type": "code",
      "source": [
        "def process_data(data_text, labels, tokenizer):\n",
        "\n",
        "  tokens = tokenizer.batch_encode_plus(\n",
        "    data_text,\n",
        "    max_length = max_seq_len,\n",
        "    padding = True,\n",
        "    truncation = True\n",
        "  )\n",
        "\n",
        "  data_seq = torch.tensor(tokens['input_ids'])\n",
        "  data_mask = torch.tensor(tokens['attention_mask'])\n",
        "  data_y = torch.tensor(labels.values)\n",
        "\n",
        "  final_data = TensorDataset(data_seq, data_mask, data_y)\n",
        "  sampler = RandomSampler(final_data)\n",
        "  dataloader = DataLoader(final_data, sampler = sampler, batch_size = batch_size)\n",
        "\n",
        "  return dataloader\n",
        "\n",
        "\n",
        "# делаем датасет: данные + маска + метки\n",
        "train_dataloader = process_data(train_text, train_labels, bert_tokenizer)\n",
        "val_dataloader = process_data(val_text, val_labels, bert_tokenizer)"
      ],
      "metadata": {
        "id": "oezhfe0Yji0f"
      },
      "execution_count": null,
      "outputs": []
    },
    {
      "cell_type": "code",
      "source": [
        "for param in bert.parameters():\n",
        "    param.requires_grad = False\n",
        "\n",
        "class BERT_Arch(nn.Module):\n",
        "    \n",
        "    def __init__(self, bert):\n",
        "        super(BERT_Arch, self).__init__()\n",
        "        self.bert = bert\n",
        "        self.dropout = nn.Dropout(0.1)\n",
        "        self.relu = nn.ReLU()\n",
        "        self.fc1 = nn.Linear(768,384)\n",
        "        self.fc2 = nn.Linear(384,2)\n",
        "        self.softmax = nn.LogSoftmax(dim = 1)\n",
        "    \n",
        "    def forward(self, sent_id, mask):\n",
        "        _, cls_hs = self.bert(input_ids = sent_id, attention_mask = mask, return_dict = False)\n",
        "        x = self.fc1(cls_hs)\n",
        "        x = self.relu(x)\n",
        "        x = self.dropout(x)\n",
        "        x = self.fc2(x)\n",
        "        x = self.softmax(x)\n",
        "        return x"
      ],
      "metadata": {
        "id": "hddkUjFKyi1r"
      },
      "execution_count": null,
      "outputs": []
    },
    {
      "cell_type": "code",
      "source": [
        "bert_model = BERT_Arch(bert)\n",
        "\n",
        "bert_model = bert_model.to(device)\n",
        "from transformers import AdamW\n",
        "\n",
        "optimizer = AdamW(bert_model.parameters(),\n",
        "                  lr= 1e-2)\n",
        "\n",
        "\n",
        "total_params = sum(p.numel() for p in bert_model.parameters())\n",
        "trainable_params = sum(p.numel() for p in bert_model.parameters() if p.requires_grad)\n",
        "\n",
        "print(f\"Number of total parameters: {total_params}\")\n",
        "print(f\"Number of trainable parameters: {trainable_params}\")"
      ],
      "metadata": {
        "colab": {
          "base_uri": "https://localhost:8080/"
        },
        "id": "rKth1ICPza2I",
        "outputId": "7c5d0b61-6c6f-4ce1-82ea-4cc0e80850b8"
      },
      "execution_count": null,
      "outputs": [
        {
          "output_type": "stream",
          "name": "stdout",
          "text": [
            "Number of total parameters: 178149506\n",
            "Number of trainable parameters: 296066\n"
          ]
        },
        {
          "output_type": "stream",
          "name": "stderr",
          "text": [
            "/usr/local/lib/python3.10/dist-packages/transformers/optimization.py:391: FutureWarning: This implementation of AdamW is deprecated and will be removed in a future version. Use the PyTorch implementation torch.optim.AdamW instead, or set `no_deprecation_warning=True` to disable this warning\n",
            "  warnings.warn(\n"
          ]
        }
      ]
    },
    {
      "cell_type": "code",
      "source": [
        "bert_model"
      ],
      "metadata": {
        "id": "imrVKG6aZJ9W"
      },
      "execution_count": null,
      "outputs": []
    },
    {
      "cell_type": "code",
      "source": [
        "# боремся с дисбалансом классов\n",
        "\n",
        "from sklearn.utils.class_weight import compute_class_weight\n",
        "\n",
        "class_weights = compute_class_weight(class_weight='balanced', classes=np.unique(y), y=y)\n",
        "\n",
        "print(class_weights)\n",
        "# [0.72818312 1.59561129]\n",
        "\n",
        "weights = torch.tensor(class_weights, dtype = torch.float)\n",
        "weights = weights.to(device)\n",
        "cross_entropy = nn.CrossEntropyLoss()"
      ],
      "metadata": {
        "colab": {
          "base_uri": "https://localhost:8080/"
        },
        "id": "Nu5vtKuDzjSN",
        "outputId": "b68d3729-f658-499a-ac51-48149d58b6d1"
      },
      "execution_count": null,
      "outputs": [
        {
          "output_type": "stream",
          "name": "stdout",
          "text": [
            "[0.72818312 1.59561129]\n"
          ]
        }
      ]
    },
    {
      "cell_type": "code",
      "source": [
        "def train(bert_model, train_dataloader):\n",
        "    bert_model.train()\n",
        "    total_loss, total_accuracy = 0, 0\n",
        "    total_preds = []\n",
        "    \n",
        "    for step, batch in tqdm(enumerate(train_dataloader), total = len(train_dataloader)):\n",
        "        batch = [r.to(device) for r in batch]\n",
        "        sent_id, mask, labels = batch\n",
        "        bert_model.zero_grad()\n",
        "        preds = bert_model(sent_id, mask)\n",
        "        loss = cross_entropy(preds, labels)\n",
        "        total_loss += loss.item()\n",
        "        loss.backward()\n",
        "        torch.nn.utils.clip_grad_norm_(bert_model.parameters(), 1.0)\n",
        "        optimizer.step()\n",
        "        preds = preds.detach().cpu().numpy()\n",
        "        total_preds.append(preds)\n",
        "        \n",
        "    avg_loss = total_loss / len(train_dataloader)\n",
        "    total_preds = np.concatenate(total_preds, axis = 0)\n",
        "    \n",
        "    return avg_loss, total_preds"
      ],
      "metadata": {
        "id": "bF15LzZv0dp0"
      },
      "execution_count": null,
      "outputs": []
    },
    {
      "cell_type": "code",
      "source": [
        "def evaluate(bert_model, val_dataloader):\n",
        "    bert_model.eval()\n",
        "    total_loss, total_accuracy = 0,0\n",
        "    total_preds = []\n",
        "\n",
        "    for step, batch in tqdm(enumerate(val_dataloader), total = len(val_dataloader)):\n",
        "        batch = [t.to(device) for t in batch]\n",
        "        sent_id, mask, labels = batch\n",
        "        \n",
        "        with torch.no_grad():\n",
        "            preds = bert_model(sent_id, mask)\n",
        "            loss = cross_entropy(preds, labels)\n",
        "            total_loss = total_loss + loss.item()\n",
        "            preds = preds.detach().cpu().numpy()\n",
        "            total_preds.append(preds)\n",
        "\n",
        "    avg_loss = total_loss / len(val_dataloader)\n",
        "    total_preds = np.concatenate(total_preds, axis = 0)\n",
        "    return avg_loss, total_preds"
      ],
      "metadata": {
        "id": "oOryzMnK0gW5"
      },
      "execution_count": null,
      "outputs": []
    },
    {
      "cell_type": "code",
      "source": [
        "# Training loss: 0.564 - Validation loss: 0.593\n",
        "\n",
        "best_valid_loss = float('inf')\n",
        "epochs = 30\n",
        "\n",
        "train_losses = []\n",
        "valid_losses = []\n",
        "\n",
        "for epoch in range(epochs):\n",
        "    print('\\n Epoch{:} / {:}'.format(epoch+1, epochs))\n",
        "    \n",
        "    train_loss, _ = train(bert_model, train_dataloader)\n",
        "    valid_loss, _ = evaluate(bert_model, val_dataloader)\n",
        "    \n",
        "    if valid_loss < best_valid_loss:\n",
        "        best_valid_loss = valid_loss\n",
        "        torch.save(bert_model.state_dict(), 'saved_weights.pt')\n",
        "    \n",
        "    train_losses.append(train_loss)\n",
        "    valid_losses.append(valid_loss)\n",
        "    print(f'\\nTraining loss: {train_loss:.3f}')\n",
        "    print(f'Validation loss: {valid_loss:.3f}')"
      ],
      "metadata": {
        "id": "VQkv3YdS0if6"
      },
      "execution_count": null,
      "outputs": []
    },
    {
      "cell_type": "code",
      "source": [
        "path = 'saved_weights.pt'\n",
        "bert_model.load_state_dict(torch.load(path))"
      ],
      "metadata": {
        "id": "UfYd9e6oWkEI"
      },
      "execution_count": null,
      "outputs": []
    },
    {
      "cell_type": "code",
      "source": [
        "import gc\n",
        "gc.collect()\n",
        "torch.cuda.empty_cache()\n",
        "\n",
        "# test_dataloader = process_data(test_text, test_labels, bert_tokenizer)\n",
        "\n",
        "tokens_test = bert_tokenizer.batch_encode_plus(\n",
        "    test_text,\n",
        "    max_length = max_seq_len,\n",
        "    padding = True,\n",
        "    truncation = True\n",
        ")\n",
        "\n",
        "test_seq = torch.tensor(tokens_test['input_ids'])\n",
        "test_mask = torch.tensor(tokens_test['attention_mask'])\n",
        "test_y = torch.tensor(test_labels.values)\n",
        "\n",
        "list_seq = np.array_split(test_seq, 50)\n",
        "list_mask = np.array_split(test_mask, 50)\n",
        "\n",
        "\n",
        "predictions = []\n",
        "for num, elem in enumerate(list_seq):\n",
        "    with torch.no_grad():\n",
        "        preds = bert_model(elem.to(device), list_mask[num].to(device))\n",
        "        predictions.append(preds.detach().cpu().numpy())"
      ],
      "metadata": {
        "id": "yrvkx_OlWnBn"
      },
      "execution_count": null,
      "outputs": []
    },
    {
      "cell_type": "code",
      "source": [
        "PRED = pd.DataFrame({'target': test_labels.values, \"text\": test_text.values})\n",
        "\n",
        "flat_preds = [item[1] for sublist in predictions for item in sublist]\n",
        "flat_preds = (flat_preds - min(flat_preds)) / (max(flat_preds) - min(flat_preds))\n",
        "PRED['confidence'] = flat_preds"
      ],
      "metadata": {
        "id": "6TQ_YpdqXI1I"
      },
      "execution_count": null,
      "outputs": []
    },
    {
      "cell_type": "code",
      "source": [
        "PRED['pred'] = PRED['confidence'].apply(lambda x: 1 if x > 0.54 else 0)\n",
        "\n",
        "print(classification_report(PRED['target'], PRED['pred']))"
      ],
      "metadata": {
        "id": "_1T1Be4VXLVs"
      },
      "execution_count": null,
      "outputs": []
    },
    {
      "cell_type": "code",
      "source": [
        "PRED"
      ],
      "metadata": {
        "colab": {
          "base_uri": "https://localhost:8080/",
          "height": 423
        },
        "id": "4v6yWg7dev5S",
        "outputId": "58061607-d5bf-413a-ad90-3887cdfea1e4"
      },
      "execution_count": null,
      "outputs": [
        {
          "output_type": "execute_result",
          "data": {
            "text/plain": [
              "     target                                               text  confidence\n",
              "0         0  Твой детский вызов мне приятен,\\nНо не желай м...    0.592639\n",
              "1         0  Ты прав, мой друг, ты прав  хвалить ее не смей...    0.408588\n",
              "2         1  Блажен, кто в шуме городском\\nМечтает об уедин...    0.783474\n",
              "3         0  Однажды Смерть послала в ад указ,\\nЧтоб весь п...    0.895598\n",
              "4         1  Блажен, кто в отдаленной сени,\\nВдали взыскате...    0.763405\n",
              "..      ...                                                ...         ...\n",
              "148       1  Счастлив, кто близ тебя, любовник упоенный,\\nБ...    0.944334\n",
              "149       0  Лягушке вздумалось: сем сделаюсь с быка,\\nХотя...    0.283586\n",
              "150       0  Как песенка моя понравилась Лилете,\\nОна ее  н...    0.576783\n",
              "151       1  Старайся наблюдать различные приметы:\\nПастух ...    0.887725\n",
              "152       1  Вчера за чашей пуншевою\\nС гусаром я сидел,\\nИ...    0.761584\n",
              "\n",
              "[153 rows x 3 columns]"
            ],
            "text/html": [
              "\n",
              "  <div id=\"df-636656e4-e1ad-4a1c-b1c7-befbd6a4a96b\">\n",
              "    <div class=\"colab-df-container\">\n",
              "      <div>\n",
              "<style scoped>\n",
              "    .dataframe tbody tr th:only-of-type {\n",
              "        vertical-align: middle;\n",
              "    }\n",
              "\n",
              "    .dataframe tbody tr th {\n",
              "        vertical-align: top;\n",
              "    }\n",
              "\n",
              "    .dataframe thead th {\n",
              "        text-align: right;\n",
              "    }\n",
              "</style>\n",
              "<table border=\"1\" class=\"dataframe\">\n",
              "  <thead>\n",
              "    <tr style=\"text-align: right;\">\n",
              "      <th></th>\n",
              "      <th>target</th>\n",
              "      <th>text</th>\n",
              "      <th>confidence</th>\n",
              "    </tr>\n",
              "  </thead>\n",
              "  <tbody>\n",
              "    <tr>\n",
              "      <th>0</th>\n",
              "      <td>0</td>\n",
              "      <td>Твой детский вызов мне приятен,\\nНо не желай м...</td>\n",
              "      <td>0.592639</td>\n",
              "    </tr>\n",
              "    <tr>\n",
              "      <th>1</th>\n",
              "      <td>0</td>\n",
              "      <td>Ты прав, мой друг, ты прав  хвалить ее не смей...</td>\n",
              "      <td>0.408588</td>\n",
              "    </tr>\n",
              "    <tr>\n",
              "      <th>2</th>\n",
              "      <td>1</td>\n",
              "      <td>Блажен, кто в шуме городском\\nМечтает об уедин...</td>\n",
              "      <td>0.783474</td>\n",
              "    </tr>\n",
              "    <tr>\n",
              "      <th>3</th>\n",
              "      <td>0</td>\n",
              "      <td>Однажды Смерть послала в ад указ,\\nЧтоб весь п...</td>\n",
              "      <td>0.895598</td>\n",
              "    </tr>\n",
              "    <tr>\n",
              "      <th>4</th>\n",
              "      <td>1</td>\n",
              "      <td>Блажен, кто в отдаленной сени,\\nВдали взыскате...</td>\n",
              "      <td>0.763405</td>\n",
              "    </tr>\n",
              "    <tr>\n",
              "      <th>...</th>\n",
              "      <td>...</td>\n",
              "      <td>...</td>\n",
              "      <td>...</td>\n",
              "    </tr>\n",
              "    <tr>\n",
              "      <th>148</th>\n",
              "      <td>1</td>\n",
              "      <td>Счастлив, кто близ тебя, любовник упоенный,\\nБ...</td>\n",
              "      <td>0.944334</td>\n",
              "    </tr>\n",
              "    <tr>\n",
              "      <th>149</th>\n",
              "      <td>0</td>\n",
              "      <td>Лягушке вздумалось: сем сделаюсь с быка,\\nХотя...</td>\n",
              "      <td>0.283586</td>\n",
              "    </tr>\n",
              "    <tr>\n",
              "      <th>150</th>\n",
              "      <td>0</td>\n",
              "      <td>Как песенка моя понравилась Лилете,\\nОна ее  н...</td>\n",
              "      <td>0.576783</td>\n",
              "    </tr>\n",
              "    <tr>\n",
              "      <th>151</th>\n",
              "      <td>1</td>\n",
              "      <td>Старайся наблюдать различные приметы:\\nПастух ...</td>\n",
              "      <td>0.887725</td>\n",
              "    </tr>\n",
              "    <tr>\n",
              "      <th>152</th>\n",
              "      <td>1</td>\n",
              "      <td>Вчера за чашей пуншевою\\nС гусаром я сидел,\\nИ...</td>\n",
              "      <td>0.761584</td>\n",
              "    </tr>\n",
              "  </tbody>\n",
              "</table>\n",
              "<p>153 rows × 3 columns</p>\n",
              "</div>\n",
              "      <button class=\"colab-df-convert\" onclick=\"convertToInteractive('df-636656e4-e1ad-4a1c-b1c7-befbd6a4a96b')\"\n",
              "              title=\"Convert this dataframe to an interactive table.\"\n",
              "              style=\"display:none;\">\n",
              "        \n",
              "  <svg xmlns=\"http://www.w3.org/2000/svg\" height=\"24px\"viewBox=\"0 0 24 24\"\n",
              "       width=\"24px\">\n",
              "    <path d=\"M0 0h24v24H0V0z\" fill=\"none\"/>\n",
              "    <path d=\"M18.56 5.44l.94 2.06.94-2.06 2.06-.94-2.06-.94-.94-2.06-.94 2.06-2.06.94zm-11 1L8.5 8.5l.94-2.06 2.06-.94-2.06-.94L8.5 2.5l-.94 2.06-2.06.94zm10 10l.94 2.06.94-2.06 2.06-.94-2.06-.94-.94-2.06-.94 2.06-2.06.94z\"/><path d=\"M17.41 7.96l-1.37-1.37c-.4-.4-.92-.59-1.43-.59-.52 0-1.04.2-1.43.59L10.3 9.45l-7.72 7.72c-.78.78-.78 2.05 0 2.83L4 21.41c.39.39.9.59 1.41.59.51 0 1.02-.2 1.41-.59l7.78-7.78 2.81-2.81c.8-.78.8-2.07 0-2.86zM5.41 20L4 18.59l7.72-7.72 1.47 1.35L5.41 20z\"/>\n",
              "  </svg>\n",
              "      </button>\n",
              "      \n",
              "  <style>\n",
              "    .colab-df-container {\n",
              "      display:flex;\n",
              "      flex-wrap:wrap;\n",
              "      gap: 12px;\n",
              "    }\n",
              "\n",
              "    .colab-df-convert {\n",
              "      background-color: #E8F0FE;\n",
              "      border: none;\n",
              "      border-radius: 50%;\n",
              "      cursor: pointer;\n",
              "      display: none;\n",
              "      fill: #1967D2;\n",
              "      height: 32px;\n",
              "      padding: 0 0 0 0;\n",
              "      width: 32px;\n",
              "    }\n",
              "\n",
              "    .colab-df-convert:hover {\n",
              "      background-color: #E2EBFA;\n",
              "      box-shadow: 0px 1px 2px rgba(60, 64, 67, 0.3), 0px 1px 3px 1px rgba(60, 64, 67, 0.15);\n",
              "      fill: #174EA6;\n",
              "    }\n",
              "\n",
              "    [theme=dark] .colab-df-convert {\n",
              "      background-color: #3B4455;\n",
              "      fill: #D2E3FC;\n",
              "    }\n",
              "\n",
              "    [theme=dark] .colab-df-convert:hover {\n",
              "      background-color: #434B5C;\n",
              "      box-shadow: 0px 1px 3px 1px rgba(0, 0, 0, 0.15);\n",
              "      filter: drop-shadow(0px 1px 2px rgba(0, 0, 0, 0.3));\n",
              "      fill: #FFFFFF;\n",
              "    }\n",
              "  </style>\n",
              "\n",
              "      <script>\n",
              "        const buttonEl =\n",
              "          document.querySelector('#df-636656e4-e1ad-4a1c-b1c7-befbd6a4a96b button.colab-df-convert');\n",
              "        buttonEl.style.display =\n",
              "          google.colab.kernel.accessAllowed ? 'block' : 'none';\n",
              "\n",
              "        async function convertToInteractive(key) {\n",
              "          const element = document.querySelector('#df-636656e4-e1ad-4a1c-b1c7-befbd6a4a96b');\n",
              "          const dataTable =\n",
              "            await google.colab.kernel.invokeFunction('convertToInteractive',\n",
              "                                                     [key], {});\n",
              "          if (!dataTable) return;\n",
              "\n",
              "          const docLinkHtml = 'Like what you see? Visit the ' +\n",
              "            '<a target=\"_blank\" href=https://colab.research.google.com/notebooks/data_table.ipynb>data table notebook</a>'\n",
              "            + ' to learn more about interactive tables.';\n",
              "          element.innerHTML = '';\n",
              "          dataTable['output_type'] = 'display_data';\n",
              "          await google.colab.output.renderOutput(dataTable, element);\n",
              "          const docLink = document.createElement('div');\n",
              "          docLink.innerHTML = docLinkHtml;\n",
              "          element.appendChild(docLink);\n",
              "        }\n",
              "      </script>\n",
              "    </div>\n",
              "  </div>\n",
              "  "
            ]
          },
          "metadata": {},
          "execution_count": 82
        }
      ]
    },
    {
      "cell_type": "code",
      "source": [
        "from collections import Counter\n",
        "from sklearn.metrics import f1_score\n",
        "from sklearn.metrics import roc_auc_score\n",
        "from sklearn.metrics import balanced_accuracy_score\n",
        "from sklearn.metrics import confusion_matrix\n",
        "\n",
        "def bert_score(y_test, y_prob, threshold=0.5):\n",
        "    \n",
        "    # метод keras.model.predict возвращает именно вероятности а не логиты (всё окей!!!)\n",
        "    preds = [1 if prob > threshold else 0 for prob in y_prob]\n",
        "    \n",
        "    #print(preds)\n",
        "    # y_pred2 = [round(y_prob[i,0]) for i in range(len(y_prob))]\n",
        "    \n",
        "    real = Counter(y_test)\n",
        "    print('real: ', real)\n",
        "    cnt = Counter(preds)\n",
        "    print(\"preds: \", cnt)\n",
        "    \n",
        "    print(\"Confusion matrix: \")\n",
        "    print(confusion_matrix(y_test, preds))\n",
        "    \n",
        "    #print(y_prob.shape)\n",
        "    #print(y_prob[:,0])\n",
        "\n",
        "    print(\"Here: \", {\"ROC AUC\": roc_auc_score(y_test, y_prob),\n",
        "            \"Balanced Accuracy\": balanced_accuracy_score(y_test, preds),\n",
        "            \"F1\": f1_score(y_test, preds)})\n"
      ],
      "metadata": {
        "id": "WsjNSWSYfWIj"
      },
      "execution_count": null,
      "outputs": []
    },
    {
      "cell_type": "code",
      "source": [
        "bert_score(PRED['target'], PRED['confidence'], threshold=0.64)"
      ],
      "metadata": {
        "id": "_Q3nPJRWfvg9"
      },
      "execution_count": null,
      "outputs": []
    },
    {
      "cell_type": "markdown",
      "source": [
        "# **BERT ЦЕЛИКОМ**"
      ],
      "metadata": {
        "id": "EXmmxV_TEG7T"
      }
    },
    {
      "cell_type": "code",
      "source": [
        "import pandas as pd\n",
        "import numpy as np\n",
        "import random\n",
        "import torch\n",
        "import transformers\n",
        "import torch.nn as nn\n",
        "from transformers import AutoModel, BertTokenizer, BertForSequenceClassification\n",
        "from transformers import TrainingArguments, Trainer\n",
        "from sklearn.metrics import classification_report, f1_score\n",
        "\n",
        "device = torch.device(\"cuda\" if torch.cuda.is_available() else \"cpu\")\n",
        "\n",
        "def seed_all(seed_value):\n",
        "    random.seed(seed_value)\n",
        "    np.random.seed(seed_value)\n",
        "    torch.manual_seed(seed_value)\n",
        "    if torch.cuda.is_available():\n",
        "        torch.cuda.manual_seed(seed_value)\n",
        "        torch.cuda.manual_seed_all(seed_value)\n",
        "        torch.backends.cudnn.benchmark = True\n",
        "        torch.backends.cudnn.deterministic = False\n",
        "seed_all(42)"
      ],
      "metadata": {
        "id": "T0urSdd-EKpv"
      },
      "execution_count": null,
      "outputs": []
    },
    {
      "cell_type": "code",
      "source": [
        "model = BertForSequenceClassification.from_pretrained('DeepPavlov/rubert-base-cased-sentence', num_labels=2).to(device)\n",
        "model_tokenizer = BertTokenizer.from_pretrained('DeepPavlov/rubert-base-cased-sentence')"
      ],
      "metadata": {
        "id": "1nxs_flC6bvT"
      },
      "execution_count": null,
      "outputs": []
    },
    {
      "cell_type": "code",
      "source": [
        "# Данная модель принимает предложения длиной, не больше 512 токенов\n",
        "\n",
        "# Для Bert не нужно проводить препроцессинг, поскольку он обучался на таких же грязных данных.\n",
        "# данные те же самые 1018 текстов - внимательно с индексам после удаления некоторых записей в df !!!\n",
        "from sklearn.model_selection import train_test_split\n",
        "X_train, X_test, y_train, y_test = train_test_split(X, y, train_size=0.85, test_size=0.15 , random_state=0, shuffle=True)\n",
        "\n",
        "train_text = X_train[:700].reset_index(drop=True)\n",
        "train_labels = y_train[:700].reset_index(drop=True)\n",
        "val_text = X_train[700:].reset_index(drop=True)\n",
        "val_labels = y_train[700:].reset_index(drop=True)\n",
        "test_text = X_test.reset_index(drop=True)\n",
        "test_labels = y_test.reset_index(drop=True)\n",
        "\n",
        "print(len(train_text), len(val_text), len(test_text), \" = \" ,len(train_text)+len(val_text)+len(test_text))"
      ],
      "metadata": {
        "colab": {
          "base_uri": "https://localhost:8080/"
        },
        "id": "B0dNvACz64c_",
        "outputId": "a501f60e-6abb-408d-c06d-4f6b65ee0b0c"
      },
      "execution_count": null,
      "outputs": [
        {
          "output_type": "stream",
          "name": "stdout",
          "text": [
            "700 165 153  =  1018\n"
          ]
        }
      ]
    },
    {
      "cell_type": "code",
      "source": [
        "max_seq_len = 512\n",
        "\n",
        "tokens_train = model_tokenizer.batch_encode_plus(\n",
        "    train_text,\n",
        "    max_length = max_seq_len,\n",
        "    padding = 'max_length',\n",
        "    truncation = True\n",
        ")\n",
        "tokens_test = model_tokenizer.batch_encode_plus(\n",
        "    test_text,\n",
        "    max_length = max_seq_len,\n",
        "    padding = 'max_length',\n",
        "    truncation = True\n",
        ")"
      ],
      "metadata": {
        "id": "5hX-uWa27Bil"
      },
      "execution_count": null,
      "outputs": []
    },
    {
      "cell_type": "code",
      "source": [
        "class Data(torch.utils.data.Dataset):\n",
        "    def __init__(self, encodings, labels):\n",
        "        self.encodings = encodings\n",
        "        self.labels = labels\n",
        "        \n",
        "    def __getitem__(self, idx):\n",
        "        print(idx)\n",
        "        item = {k: torch.tensor(v[idx]) for k, v in self.encodings.items()}\n",
        "        item[\"labels\"] = torch.tensor([self.labels[idx]])\n",
        "        return item\n",
        "    def __len__(self):\n",
        "        return len(self.labels)\n",
        "    \n",
        "train_dataset = Data(tokens_train, train_labels)\n",
        "test_dataset = Data(tokens_test, test_labels)"
      ],
      "metadata": {
        "id": "VQSNbFQbBWX6"
      },
      "execution_count": null,
      "outputs": []
    },
    {
      "cell_type": "code",
      "source": [
        "from sklearn.metrics import f1_score\n",
        "def compute_metrics(pred):\n",
        "    labels = pred.label_ids\n",
        "    preds = pred.predictions.argmax(-1)\n",
        "    f1 = f1_score(labels, preds)\n",
        "    return {'F1': f1}"
      ],
      "metadata": {
        "id": "5IJn5_Nf7cZU"
      },
      "execution_count": null,
      "outputs": []
    },
    {
      "cell_type": "code",
      "source": [
        "# Ниже указаны все параметры, которые будут использоваться для обучения:\n",
        "\n",
        "training_args = TrainingArguments(\n",
        "    output_dir = './results', #Выходной каталог\n",
        "    num_train_epochs = 3, #Кол-во эпох для обучения\n",
        "    per_device_train_batch_size = 8, #Размер пакета для каждого устройства во время обучения\n",
        "    per_device_eval_batch_size = 8, #Размер пакета для каждого устройства во время валидации\n",
        "    weight_decay =0.01, #Понижение весов\n",
        "    logging_dir = './logs', #Каталог для хранения журналов\n",
        "    load_best_model_at_end = True, #Загружать ли лучшую модель после обучения\n",
        "    learning_rate = 1e-5, #Скорость обучения\n",
        "    evaluation_strategy ='epoch', #Валидация после каждой эпохи (можно сделать после конкретного кол-ва шагов)\n",
        "    logging_strategy = 'epoch', #Логирование после каждой эпохи\n",
        "    save_strategy = 'epoch', #Сохранение после каждой эпохи\n",
        "    save_total_limit = 1,\n",
        "    seed=21)\n",
        "\n",
        "# Передача в trainer предообученную модель, tokenizer, данные для обучения, данные для валидации и способ расчета метрики:\n",
        "# ДАННАЯ МОДЕЛЬ ИМЕЕТ 180 МИЛЛИОН ПАРАМЕТРОВ - НА МОЁМ УСТРОЙСТВЕ ОБУЧИТЬ \n",
        "# ТАКУЮ МОДЕЛЬ - НЕВОЗМОЖНО\n",
        "\n",
        "trainer = Trainer(model=model,\n",
        "                  tokenizer = model_tokenizer,\n",
        "                  args = training_args,\n",
        "                  train_dataset = train_dataset,\n",
        "                  eval_dataset = test_dataset,\n",
        "                  compute_metrics = compute_metrics)"
      ],
      "metadata": {
        "id": "v3dgLlyU7hHH"
      },
      "execution_count": null,
      "outputs": []
    },
    {
      "cell_type": "code",
      "source": [
        "trainer.train()"
      ],
      "metadata": {
        "id": "RflNFiDQ7zrD"
      },
      "execution_count": null,
      "outputs": []
    },
    {
      "cell_type": "code",
      "source": [
        "model_path = \"fine-tune-bert\"\n",
        "model.save_pretrained(model_path)\n",
        "tokenizer.save_pretrained(model_path)"
      ],
      "metadata": {
        "id": "6w8qHUW07oN-"
      },
      "execution_count": null,
      "outputs": []
    },
    {
      "cell_type": "code",
      "source": [
        "def get_prediction():\n",
        "    test_pred = trainer.predict(test_dataset)\n",
        "    labels = np.argmax(test_pred.predictions, axis = -1)\n",
        "    return labels\n",
        "pred = get_prediction()"
      ],
      "metadata": {
        "id": "wwYq-CzB74iZ"
      },
      "execution_count": null,
      "outputs": []
    },
    {
      "cell_type": "code",
      "source": [
        "print(classification_report(test_labels, pred))\n",
        "print(f1_score(test_labels, pred))"
      ],
      "metadata": {
        "id": "sDr1ArOP7_ii"
      },
      "execution_count": null,
      "outputs": []
    },
    {
      "cell_type": "markdown",
      "metadata": {
        "id": "1df48047",
        "raw_mimetype": "text/markdown"
      },
      "source": [
        "# trans"
      ]
    },
    {
      "cell_type": "code",
      "execution_count": null,
      "metadata": {
        "id": "cca05d73"
      },
      "outputs": [],
      "source": [
        "# на будущее \n",
        "# lets use huggingface (transformers)\n",
        "\n",
        "!pip install transformers sentencepiece\n",
        "\n",
        "from transformers import pipeline\n",
        "# для автоматизации шагов обработки текста\n",
        "\n",
        "classifier = pipeline(\"text-classification\", \"papluca/xlm-roberta-base-language-detection\")\n"
      ]
    }
  ]
}